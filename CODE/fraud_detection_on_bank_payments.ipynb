{
  "nbformat": 4,
  "nbformat_minor": 0,
  "metadata": {
    "kernelspec": {
      "display_name": "Python 3",
      "language": "python",
      "name": "python3"
    },
    "language_info": {
      "name": "python",
      "version": "3.6.6",
      "mimetype": "text/x-python",
      "codemirror_mode": {
        "name": "ipython",
        "version": 3
      },
      "pygments_lexer": "ipython3",
      "nbconvert_exporter": "python",
      "file_extension": ".py"
    },
    "colab": {
      "provenance": []
    }
  },
  "cells": [
    {
      "cell_type": "markdown",
      "metadata": {
        "_uuid": "8f2839f25d086af736a60e9eeb907d3b93b6e0e5",
        "_cell_guid": "b1076dfc-b9ad-4769-8c92-a6c4dae69d19",
        "trusted": true,
        "id": "S7UTWbqVU0oT"
      },
      "source": [
        "# Fraud Detection on Bank Payments\n",
        "\n",
        "## Fraud and detecting it\n",
        "\n",
        "Fraudulent behavior can be seen across many different fields such as e-commerce, healthcare, payment and banking systems. Fraud is a billion-dollar business and it is increasing every year. The PwC global economic crime survey of 2018 [1] found that half (49 percent) of the 7,200 companies they surveyed had experienced fraud of some kind.\n",
        "\n",
        "Even if fraud seems to be scary for businesses it can be detected using intelligent systems such as rules engines or machine learning. Most people here in Kaggle are familier with machine learning but for rule engines here is a quick information. \n",
        "    A rules engine is a software system that executes one or more business rules in a runtime production environment. These rules are generally written by domain experts for transferring the knowledge of the problem to the rules engine and from there to production. Two rules examples for fraud detection would be limiting the number of transactions in a time period (velocity rules),  denying the transactions which come from previously known fraudulent IP's and/or domains.\n",
        "    \n",
        "Rules are great for detecting some type of frauds but they can fire a lot of false positives or false negatives in some cases because they have predefined threshold values. For example let's think of a rule for denying a transaction which has an amount that is bigger than 10000 dollars for a specific user. If this user is an experienced fraudster, he/she may be aware of the fact that the system would have a threshold and he/she can just make a transaction just below the threshold value (9999 dollars).\n",
        "\n",
        "For these type of problems ML comes for help and reduce the risk of frauds and the risk of business to lose money. With the combination of rules and machine learning, detection of the fraud would be more precise and confident.\n",
        "\n",
        "## Banksim dataset\n",
        "\n",
        "We detect the fraudulent transactions from the Banksim dataset. This synthetically generated dataset consists of payments from various customers made in different time periods and with different amounts. For\n",
        "more information on the dataset you can check the [Kaggle page](https://www.kaggle.com/ntnu-testimon/banksim1) for this dataset which also has the link to the original paper. \n",
        "\n",
        "Here what we'll do in this kernel:\n",
        "1. [Exploratory Data Analysis (EDA)](#Explaratory-Data-Analysis)\n",
        "2. [Data Preprocessing](#Data-Preprocessing)\n",
        "3. [Oversampling with SMOTE](#Oversampling-with-SMOTE)\n",
        "4. [K-Neighbours Classifier](#K-Neighbours-Classifier)\n",
        "5. [Random Forest Classifier](#Random-Forest-Classifier)\n",
        "7. [Conclusion](#Conclusion)"
      ]
    },
    {
      "cell_type": "markdown",
      "metadata": {
        "id": "NGibIICPU0oh"
      },
      "source": [
        "## Explaratory Data Analysis\n",
        "\n",
        "In this chapter we will perform an EDA on the data and try to gain some insight from it."
      ]
    },
    {
      "cell_type": "code",
      "metadata": {
        "_cell_guid": "79c7e3d0-c299-4dcb-8224-4455121ee9b0",
        "_uuid": "d629ff2d2480ee46fbb7e2d37f6b5fab8052498a",
        "trusted": true,
        "_kg_hide-input": true,
        "id": "ykckiHW3U0oi"
      },
      "source": [
        "# Necessary imports\n",
        "\n",
        "## Data loading, processing and for more\n",
        "import pandas as pd\n",
        "import numpy as np\n",
        "from imblearn.over_sampling import SMOTE\n",
        "\n",
        "## Visualization\n",
        "import seaborn as sns\n",
        "import matplotlib.pyplot as plt\n",
        "# set seaborn style because it prettier\n",
        "sns.set()\n",
        "\n",
        "## Metrics\n",
        "from sklearn.model_selection import train_test_split\n",
        "from sklearn.metrics import confusion_matrix, classification_report,accuracy_score\n",
        "from sklearn.metrics import roc_curve, auc\n",
        "\n",
        "## Models\n",
        "import xgboost as xgb\n",
        "from sklearn.neighbors import KNeighborsClassifier\n",
        "from sklearn.ensemble import RandomForestClassifier\n",
        "from sklearn.ensemble import VotingClassifier"
      ],
      "execution_count": null,
      "outputs": []
    },
    {
      "cell_type": "markdown",
      "metadata": {
        "_uuid": "e1b7b9feedaed877bfee5bd871c627cdbcf2e31b",
        "id": "cgMbedFrU0ok"
      },
      "source": [
        "**Data**\n",
        "As we can see in the first rows below the dataset has 9 feature columns and a target column. \n",
        "The feature columms are :\n",
        "* **Step**: This feature represents the day from the start of simulation. It has 180 steps so simulation ran for virtually 6 months.\n",
        "* **Customer**: This feature represents the customer id\n",
        "* **zipCodeOrigin**: The zip code of origin/source.\n",
        "* **Merchant**: The merchant's id\n",
        "* **zipMerchant**: The merchant's zip code\n",
        "* **Age**: Categorized age \n",
        "    * 0: <= 18, \n",
        "    * 1: 19-25, \n",
        "    * 2: 26-35, \n",
        "    * 3: 36-45,\n",
        "    * 4: 46:55,\n",
        "    * 5: 56:65,\n",
        "    * 6: > 65\n",
        "    * U: Unknown\n",
        "* **Gender**: Gender for customer\n",
        "     * E : Enterprise,\n",
        "     * F: Female,\n",
        "     * M: Male,\n",
        "     * U: Unknown\n",
        "* **Category**: Category of the purchase. I won't write all categories here, we'll see them later in the analysis.\n",
        "* **Amount**: Amount of the purchase\n",
        "* **Fraud**: Target variable which shows if the transaction fraudulent(1) or benign(0)"
      ]
    },
    {
      "cell_type": "code",
      "metadata": {
        "trusted": true,
        "_uuid": "2bf619515c1a924cf041c419cb4a0514ba6ce820",
        "_kg_hide-input": true,
        "colab": {
          "base_uri": "https://localhost:8080/",
          "height": 204
        },
        "id": "xyCc43CMU0ok",
        "outputId": "59d32783-d5df-46d0-828c-0e8ce53ec19d"
      },
      "source": [
        "# read the data and show first 5 rows\n",
        "data = pd.read_csv(\"/content/drive/MyDrive/Kaggle/bs140513_032310.csv\")\n",
        "data.head(5)"
      ],
      "execution_count": null,
      "outputs": [
        {
          "output_type": "execute_result",
          "data": {
            "text/html": [
              "<div>\n",
              "<style scoped>\n",
              "    .dataframe tbody tr th:only-of-type {\n",
              "        vertical-align: middle;\n",
              "    }\n",
              "\n",
              "    .dataframe tbody tr th {\n",
              "        vertical-align: top;\n",
              "    }\n",
              "\n",
              "    .dataframe thead th {\n",
              "        text-align: right;\n",
              "    }\n",
              "</style>\n",
              "<table border=\"1\" class=\"dataframe\">\n",
              "  <thead>\n",
              "    <tr style=\"text-align: right;\">\n",
              "      <th></th>\n",
              "      <th>step</th>\n",
              "      <th>customer</th>\n",
              "      <th>age</th>\n",
              "      <th>gender</th>\n",
              "      <th>zipcodeOri</th>\n",
              "      <th>merchant</th>\n",
              "      <th>zipMerchant</th>\n",
              "      <th>category</th>\n",
              "      <th>amount</th>\n",
              "      <th>fraud</th>\n",
              "    </tr>\n",
              "  </thead>\n",
              "  <tbody>\n",
              "    <tr>\n",
              "      <th>0</th>\n",
              "      <td>0</td>\n",
              "      <td>'C1093826151'</td>\n",
              "      <td>'4'</td>\n",
              "      <td>'M'</td>\n",
              "      <td>'28007'</td>\n",
              "      <td>'M348934600'</td>\n",
              "      <td>'28007'</td>\n",
              "      <td>'es_transportation'</td>\n",
              "      <td>4.55</td>\n",
              "      <td>0</td>\n",
              "    </tr>\n",
              "    <tr>\n",
              "      <th>1</th>\n",
              "      <td>0</td>\n",
              "      <td>'C352968107'</td>\n",
              "      <td>'2'</td>\n",
              "      <td>'M'</td>\n",
              "      <td>'28007'</td>\n",
              "      <td>'M348934600'</td>\n",
              "      <td>'28007'</td>\n",
              "      <td>'es_transportation'</td>\n",
              "      <td>39.68</td>\n",
              "      <td>0</td>\n",
              "    </tr>\n",
              "    <tr>\n",
              "      <th>2</th>\n",
              "      <td>0</td>\n",
              "      <td>'C2054744914'</td>\n",
              "      <td>'4'</td>\n",
              "      <td>'F'</td>\n",
              "      <td>'28007'</td>\n",
              "      <td>'M1823072687'</td>\n",
              "      <td>'28007'</td>\n",
              "      <td>'es_transportation'</td>\n",
              "      <td>26.89</td>\n",
              "      <td>0</td>\n",
              "    </tr>\n",
              "    <tr>\n",
              "      <th>3</th>\n",
              "      <td>0</td>\n",
              "      <td>'C1760612790'</td>\n",
              "      <td>'3'</td>\n",
              "      <td>'M'</td>\n",
              "      <td>'28007'</td>\n",
              "      <td>'M348934600'</td>\n",
              "      <td>'28007'</td>\n",
              "      <td>'es_transportation'</td>\n",
              "      <td>17.25</td>\n",
              "      <td>0</td>\n",
              "    </tr>\n",
              "    <tr>\n",
              "      <th>4</th>\n",
              "      <td>0</td>\n",
              "      <td>'C757503768'</td>\n",
              "      <td>'5'</td>\n",
              "      <td>'M'</td>\n",
              "      <td>'28007'</td>\n",
              "      <td>'M348934600'</td>\n",
              "      <td>'28007'</td>\n",
              "      <td>'es_transportation'</td>\n",
              "      <td>35.72</td>\n",
              "      <td>0</td>\n",
              "    </tr>\n",
              "  </tbody>\n",
              "</table>\n",
              "</div>"
            ],
            "text/plain": [
              "   step       customer  age  ...             category amount fraud\n",
              "0     0  'C1093826151'  '4'  ...  'es_transportation'   4.55     0\n",
              "1     0   'C352968107'  '2'  ...  'es_transportation'  39.68     0\n",
              "2     0  'C2054744914'  '4'  ...  'es_transportation'  26.89     0\n",
              "3     0  'C1760612790'  '3'  ...  'es_transportation'  17.25     0\n",
              "4     0   'C757503768'  '5'  ...  'es_transportation'  35.72     0\n",
              "\n",
              "[5 rows x 10 columns]"
            ]
          },
          "metadata": {
            "tags": []
          },
          "execution_count": 26
        }
      ]
    },
    {
      "cell_type": "code",
      "metadata": {
        "colab": {
          "base_uri": "https://localhost:8080/"
        },
        "id": "HBMHrMoSVMJr",
        "outputId": "71b43c12-6151-49c9-8645-6241cfefe28a"
      },
      "source": [
        "from google.colab import drive\n",
        "drive.mount('/content/drive')"
      ],
      "execution_count": null,
      "outputs": [
        {
          "output_type": "stream",
          "text": [
            "Drive already mounted at /content/drive; to attempt to forcibly remount, call drive.mount(\"/content/drive\", force_remount=True).\n"
          ],
          "name": "stdout"
        }
      ]
    },
    {
      "cell_type": "markdown",
      "metadata": {
        "_uuid": "29a786fcbe642321727b007bd015cec05a198238",
        "id": "LsZolx3jU0ol"
      },
      "source": [
        "Let's look at column types and missing values in data.  Oh im sorry there is **no** missing values which means we don't have to perform an imputation."
      ]
    },
    {
      "cell_type": "code",
      "metadata": {
        "trusted": true,
        "_uuid": "c285fad4bda30a3b5feec97b71e0a9d1e0b7ec8c",
        "colab": {
          "base_uri": "https://localhost:8080/"
        },
        "id": "EOSJP7GjU0om",
        "outputId": "df307bb8-f3c2-4d4e-b0a1-e3dcd8b8097e"
      },
      "source": [
        "data.info()"
      ],
      "execution_count": null,
      "outputs": [
        {
          "output_type": "stream",
          "text": [
            "<class 'pandas.core.frame.DataFrame'>\n",
            "RangeIndex: 594643 entries, 0 to 594642\n",
            "Data columns (total 10 columns):\n",
            " #   Column       Non-Null Count   Dtype  \n",
            "---  ------       --------------   -----  \n",
            " 0   step         594643 non-null  int64  \n",
            " 1   customer     594643 non-null  object \n",
            " 2   age          594643 non-null  object \n",
            " 3   gender       594643 non-null  object \n",
            " 4   zipcodeOri   594643 non-null  object \n",
            " 5   merchant     594643 non-null  object \n",
            " 6   zipMerchant  594643 non-null  object \n",
            " 7   category     594643 non-null  object \n",
            " 8   amount       594643 non-null  float64\n",
            " 9   fraud        594643 non-null  int64  \n",
            "dtypes: float64(1), int64(2), object(7)\n",
            "memory usage: 45.4+ MB\n"
          ],
          "name": "stdout"
        }
      ]
    },
    {
      "cell_type": "markdown",
      "metadata": {
        "_uuid": "36778347862db884536c7b89e817c959acddc514",
        "id": "ca0eZeJIU0om"
      },
      "source": [
        "**Fraud data** will be imbalanced like you see in the plot below and from the count of instances. To balance the dataset one can perform oversample or undersample techniques. Oversampling is increasing the number of the minority class by generating instances from the minority class . Undersampling is reducing the number of instances in the majority class by selecting random points from it to where it is equal with the minority class. Both operations have some risks: Oversample will create copies or similar data points which sometimes would not be helpful for the case of fraud detection because fraudulent transactions may vary. Undersampling means that we lost data points thus information. We will perform an oversampled technique called SMOTE (Synthetic Minority Over-sampling Technique). SMOTE will create new data points from minority class using the neighbour instances so generated samples are not exact copies but they are similar to instances we have."
      ]
    },
    {
      "cell_type": "code",
      "metadata": {
        "trusted": true,
        "_uuid": "ee9ed07328bb6ae710263c4e55066f3e757206a0",
        "_kg_hide-input": true,
        "colab": {
          "base_uri": "https://localhost:8080/",
          "height": 335
        },
        "id": "gFyuwV-0U0on",
        "outputId": "522b2fff-a6bb-4e9b-e03a-4c5eaf6135f7"
      },
      "source": [
        "# Create two dataframes with fraud and non-fraud data \n",
        "df_fraud = data.loc[data.fraud == 1] \n",
        "df_non_fraud = data.loc[data.fraud == 0]\n",
        "\n",
        "sns.countplot(x=\"fraud\",data=data)\n",
        "plt.title(\"Count of Fraudulent Payments\")\n",
        "plt.show()\n",
        "print(\"Number of normal examples: \",df_non_fraud.fraud.count())\n",
        "print(\"Number of fradulent examples: \",df_fraud.fraud.count())\n",
        "#print(data.fraud.value_counts()) # does the same thing above"
      ],
      "execution_count": null,
      "outputs": [
        {
          "output_type": "display_data",
          "data": {
            "image/png": "[encoded data removed]",
            "text/plain": [
              "<Figure size 432x288 with 1 Axes>"
            ]
          },
          "metadata": {
            "tags": []
          }
        },
        {
          "output_type": "stream",
          "text": [
            "Number of normal examples:  587443\n",
            "Number of fradulent examples:  7200\n"
          ],
          "name": "stdout"
        }
      ]
    },
    {
      "cell_type": "markdown",
      "metadata": {
        "_uuid": "cf77a853d6b363b91512d3c3ce22717a5ed29645",
        "id": "Hrflx3z7U0on"
      },
      "source": [
        "We can see the mean amount and fraud percent by category below. Looks like leisure and the travel is the most selected categories for fraudsters. Fraudsters chose the categories which people spend more on average. Let's confirm this hypothesis by checking the fraud and non-fraud amount transacted."
      ]
    },
    {
      "cell_type": "code",
      "metadata": {
        "trusted": true,
        "_uuid": "44479e279e91d208d9108112327441e5d57d5fee",
        "colab": {
          "base_uri": "https://localhost:8080/"
        },
        "id": "H8v-AjXvU0oo",
        "outputId": "f0284ab2-6547-4def-8fd2-d8b62c6796b9"
      },
      "source": [
        "print(\"Mean feature values per category\",data.groupby('category')['amount','fraud'].mean())"
      ],
      "execution_count": null,
      "outputs": [
        {
          "output_type": "stream",
          "text": [
            "Mean feature values per category                               amount     fraud\n",
            "category                                      \n",
            "'es_barsandrestaurants'    43.461014  0.018829\n",
            "'es_contents'              44.547571  0.000000\n",
            "'es_fashion'               65.666642  0.017973\n",
            "'es_food'                  37.070405  0.000000\n",
            "'es_health'               135.621367  0.105126\n",
            "'es_home'                 165.670846  0.152064\n",
            "'es_hotelservices'        205.614249  0.314220\n",
            "'es_hyper'                 45.970421  0.045917\n",
            "'es_leisure'              288.911303  0.949900\n",
            "'es_otherservices'        135.881524  0.250000\n",
            "'es_sportsandtoys'        215.715280  0.495252\n",
            "'es_tech'                 120.947937  0.066667\n",
            "'es_transportation'        26.958187  0.000000\n",
            "'es_travel'              2250.409190  0.793956\n",
            "'es_wellnessandbeauty'     65.511221  0.047594\n"
          ],
          "name": "stdout"
        },
        {
          "output_type": "stream",
          "text": [
            "/usr/local/lib/python3.7/dist-packages/ipykernel_launcher.py:1: FutureWarning: Indexing with multiple keys (implicitly converted to a tuple of keys) will be deprecated, use a list instead.\n",
            "  \"\"\"Entry point for launching an IPython kernel.\n"
          ],
          "name": "stderr"
        }
      ]
    },
    {
      "cell_type": "markdown",
      "metadata": {
        "_uuid": "258b20b07d771a0fd9a7a22fda617e40ce967842",
        "id": "KZwvT9NGU0oo"
      },
      "source": [
        "Our hypothesis for fraudsters choosing the categories which people spend more is only partly correct, but as we can see in the table below we can say confidently say that a fraudulent transaction will be much more (about four times or more) than average for that category."
      ]
    },
    {
      "cell_type": "code",
      "metadata": {
        "trusted": true,
        "_uuid": "b5a14927d2edfb847e809969fd534e9bae339a2a",
        "colab": {
          "base_uri": "https://localhost:8080/",
          "height": 514
        },
        "id": "kLa2hadSU0oo",
        "outputId": "3d31a5f3-f905-4e9f-e35f-a72f97ff2648"
      },
      "source": [
        "# Create two dataframes with fraud and non-fraud data \n",
        "pd.concat([df_fraud.groupby('category')['amount'].mean(),df_non_fraud.groupby('category')['amount'].mean(),\\\n",
        "           data.groupby('category')['fraud'].mean()*100],keys=[\"Fraudulent\",\"Non-Fraudulent\",\"Percent(%)\"],axis=1,\\\n",
        "          sort=False).sort_values(by=['Non-Fraudulent'])"
      ],
      "execution_count": null,
      "outputs": [
        {
          "output_type": "execute_result",
          "data": {
            "text/html": [
              "<div>\n",
              "<style scoped>\n",
              "    .dataframe tbody tr th:only-of-type {\n",
              "        vertical-align: middle;\n",
              "    }\n",
              "\n",
              "    .dataframe tbody tr th {\n",
              "        vertical-align: top;\n",
              "    }\n",
              "\n",
              "    .dataframe thead th {\n",
              "        text-align: right;\n",
              "    }\n",
              "</style>\n",
              "<table border=\"1\" class=\"dataframe\">\n",
              "  <thead>\n",
              "    <tr style=\"text-align: right;\">\n",
              "      <th></th>\n",
              "      <th>Fraudulent</th>\n",
              "      <th>Non-Fraudulent</th>\n",
              "      <th>Percent(%)</th>\n",
              "    </tr>\n",
              "  </thead>\n",
              "  <tbody>\n",
              "    <tr>\n",
              "      <th>'es_transportation'</th>\n",
              "      <td>NaN</td>\n",
              "      <td>26.958187</td>\n",
              "      <td>0.000000</td>\n",
              "    </tr>\n",
              "    <tr>\n",
              "      <th>'es_food'</th>\n",
              "      <td>NaN</td>\n",
              "      <td>37.070405</td>\n",
              "      <td>0.000000</td>\n",
              "    </tr>\n",
              "    <tr>\n",
              "      <th>'es_hyper'</th>\n",
              "      <td>169.255429</td>\n",
              "      <td>40.037145</td>\n",
              "      <td>4.591669</td>\n",
              "    </tr>\n",
              "    <tr>\n",
              "      <th>'es_barsandrestaurants'</th>\n",
              "      <td>164.092667</td>\n",
              "      <td>41.145997</td>\n",
              "      <td>1.882944</td>\n",
              "    </tr>\n",
              "    <tr>\n",
              "      <th>'es_contents'</th>\n",
              "      <td>NaN</td>\n",
              "      <td>44.547571</td>\n",
              "      <td>0.000000</td>\n",
              "    </tr>\n",
              "    <tr>\n",
              "      <th>'es_wellnessandbeauty'</th>\n",
              "      <td>229.422535</td>\n",
              "      <td>57.320219</td>\n",
              "      <td>4.759380</td>\n",
              "    </tr>\n",
              "    <tr>\n",
              "      <th>'es_fashion'</th>\n",
              "      <td>247.008190</td>\n",
              "      <td>62.347674</td>\n",
              "      <td>1.797335</td>\n",
              "    </tr>\n",
              "    <tr>\n",
              "      <th>'es_leisure'</th>\n",
              "      <td>300.286878</td>\n",
              "      <td>73.230400</td>\n",
              "      <td>94.989980</td>\n",
              "    </tr>\n",
              "    <tr>\n",
              "      <th>'es_otherservices'</th>\n",
              "      <td>316.469605</td>\n",
              "      <td>75.685497</td>\n",
              "      <td>25.000000</td>\n",
              "    </tr>\n",
              "    <tr>\n",
              "      <th>'es_sportsandtoys'</th>\n",
              "      <td>345.366811</td>\n",
              "      <td>88.502738</td>\n",
              "      <td>49.525237</td>\n",
              "    </tr>\n",
              "    <tr>\n",
              "      <th>'es_tech'</th>\n",
              "      <td>415.274114</td>\n",
              "      <td>99.924638</td>\n",
              "      <td>6.666667</td>\n",
              "    </tr>\n",
              "    <tr>\n",
              "      <th>'es_health'</th>\n",
              "      <td>407.031338</td>\n",
              "      <td>103.737228</td>\n",
              "      <td>10.512614</td>\n",
              "    </tr>\n",
              "    <tr>\n",
              "      <th>'es_hotelservices'</th>\n",
              "      <td>421.823339</td>\n",
              "      <td>106.548545</td>\n",
              "      <td>31.422018</td>\n",
              "    </tr>\n",
              "    <tr>\n",
              "      <th>'es_home'</th>\n",
              "      <td>457.484834</td>\n",
              "      <td>113.338409</td>\n",
              "      <td>15.206445</td>\n",
              "    </tr>\n",
              "    <tr>\n",
              "      <th>'es_travel'</th>\n",
              "      <td>2660.802872</td>\n",
              "      <td>669.025533</td>\n",
              "      <td>79.395604</td>\n",
              "    </tr>\n",
              "  </tbody>\n",
              "</table>\n",
              "</div>"
            ],
            "text/plain": [
              "                          Fraudulent  Non-Fraudulent  Percent(%)\n",
              "'es_transportation'              NaN       26.958187    0.000000\n",
              "'es_food'                        NaN       37.070405    0.000000\n",
              "'es_hyper'                169.255429       40.037145    4.591669\n",
              "'es_barsandrestaurants'   164.092667       41.145997    1.882944\n",
              "'es_contents'                    NaN       44.547571    0.000000\n",
              "'es_wellnessandbeauty'    229.422535       57.320219    4.759380\n",
              "'es_fashion'              247.008190       62.347674    1.797335\n",
              "'es_leisure'              300.286878       73.230400   94.989980\n",
              "'es_otherservices'        316.469605       75.685497   25.000000\n",
              "'es_sportsandtoys'        345.366811       88.502738   49.525237\n",
              "'es_tech'                 415.274114       99.924638    6.666667\n",
              "'es_health'               407.031338      103.737228   10.512614\n",
              "'es_hotelservices'        421.823339      106.548545   31.422018\n",
              "'es_home'                 457.484834      113.338409   15.206445\n",
              "'es_travel'              2660.802872      669.025533   79.395604"
            ]
          },
          "metadata": {
            "tags": []
          },
          "execution_count": 31
        }
      ]
    },
    {
      "cell_type": "markdown",
      "metadata": {
        "_uuid": "e41aeb2f2c6b898ebbcb5b4222fd44ca8e87c8ae",
        "id": "LYbMVJv1U0op"
      },
      "source": [
        "Average amount spend it categories are similar; between 0-500 discarding the outliers, except for the travel category which goes very high.\n",
        "\n",
        "\n",
        "\n"
      ]
    },
    {
      "cell_type": "code",
      "metadata": {
        "trusted": true,
        "_uuid": "290e7163a62fb029fcbdf45a3d35c7c0d58c423d",
        "_kg_hide-input": false,
        "colab": {
          "base_uri": "https://localhost:8080/",
          "height": 470
        },
        "id": "0JReoBOVU0op",
        "outputId": "5f030f94-6d5f-4f52-cd26-0e585f3ce5ee"
      },
      "source": [
        "# Plot histograms of the amounts in fraud and non-fraud data \n",
        "plt.figure(figsize=(30,10))\n",
        "sns.boxplot(x=data.category,y=data.amount)\n",
        "plt.title(\"Boxplot for the Amount spend in category\")\n",
        "plt.ylim(0,4000)\n",
        "plt.legend()\n",
        "plt.show()"
      ],
      "execution_count": null,
      "outputs": [
        {
          "output_type": "stream",
          "text": [
            "No handles with labels found to put in legend.\n"
          ],
          "name": "stderr"
        },
        {
          "output_type": "display_data",
          "data": {
            "image/png": "[encoded data removed]",
            "text/plain": [
              "<Figure size 2160x720 with 1 Axes>"
            ]
          },
          "metadata": {
            "tags": []
          }
        }
      ]
    },
    {
      "cell_type": "markdown",
      "metadata": {
        "_uuid": "69dbe47eb7f490030006aaa42bac0a7414b3c100",
        "id": "JrDh1YAnU0op"
      },
      "source": [
        "Again we can see in the histogram below the fradulent transactions are less in count but more in amount."
      ]
    },
    {
      "cell_type": "code",
      "metadata": {
        "trusted": true,
        "_uuid": "93272d1343f6783a0152a80b5a177541faed8e25",
        "colab": {
          "base_uri": "https://localhost:8080/",
          "height": 284
        },
        "id": "YBLU8eBRU0oq",
        "outputId": "04eae8e4-b384-4752-e143-c5fc04b0dace"
      },
      "source": [
        "# Plot histograms of the amounts in fraud and non-fraud data \n",
        "plt.hist(df_fraud.amount, alpha=0.5, label='fraud',bins=100)\n",
        "plt.hist(df_non_fraud.amount, alpha=0.5, label='nonfraud',bins=100)\n",
        "plt.title(\"Histogram for fraudulent and nonfraudulent payments\")\n",
        "plt.ylim(0,10000)\n",
        "plt.xlim(0,1000)\n",
        "plt.legend()\n",
        "plt.show()"
      ],
      "execution_count": null,
      "outputs": [
        {
          "output_type": "display_data",
          "data": {
            "image/png": "[encoded data removed]",
            "text/plain": [
              "<Figure size 432x288 with 1 Axes>"
            ]
          },
          "metadata": {
            "tags": []
          }
        }
      ]
    },
    {
      "cell_type": "markdown",
      "metadata": {
        "_uuid": "76c33765a55bb89e0fb8a5d1cd55aa6bd7727dfa",
        "id": "EHYPgvaaU0or"
      },
      "source": [
        "Looks like fraud occurs more in ages equal and below 18(0th category). Can it be because of fraudsters thinking it would be less consequences if they show their age younger, or maybe they really are young."
      ]
    },
    {
      "cell_type": "code",
      "metadata": {
        "trusted": true,
        "_uuid": "d5e387216fa347c7f437c7f187095edd3912f848",
        "colab": {
          "base_uri": "https://localhost:8080/"
        },
        "id": "Cpg1wHJ7U0or",
        "outputId": "49db430d-793e-45f9-d5ab-f5a0037c51b6"
      },
      "source": [
        "print((data.groupby('age')['fraud'].mean()*100).reset_index().rename(columns={'age':'Age','fraud' : 'Fraud Percent'}).sort_values(by='Fraud Percent'))"
      ],
      "execution_count": null,
      "outputs": [
        {
          "output_type": "stream",
          "text": [
            "   Age  Fraud Percent\n",
            "7  'U'       0.594228\n",
            "6  '6'       0.974826\n",
            "5  '5'       1.095112\n",
            "1  '1'       1.185254\n",
            "3  '3'       1.192815\n",
            "2  '2'       1.251401\n",
            "4  '4'       1.293281\n",
            "0  '0'       1.957586\n"
          ],
          "name": "stdout"
        }
      ]
    },
    {
      "cell_type": "markdown",
      "metadata": {
        "_uuid": "23001479b16bd3f01682dedd94b47a3f231a7c9e",
        "id": "rW00kL4KU0or"
      },
      "source": [
        "## Data Preprocessing\n",
        "\n",
        "In this part we will preprocess the data and prepare for the training.\n",
        "\n",
        "There are only one unique zipCode values so we will drop them."
      ]
    },
    {
      "cell_type": "code",
      "metadata": {
        "trusted": true,
        "_uuid": "47246c26a027470f30ea0a5e4a149e6dbb951403",
        "colab": {
          "base_uri": "https://localhost:8080/"
        },
        "id": "wt1tLfOQU0or",
        "outputId": "f76627eb-4f95-4bbf-8adc-8a9a3f099274"
      },
      "source": [
        "print(\"Unique zipCodeOri values: \",data.zipcodeOri.nunique())\n",
        "print(\"Unique zipMerchant values: \",data.zipMerchant.nunique())\n",
        "# dropping zipcodeori and zipMerchant since they have only one unique value\n",
        "data_reduced = data.drop(['zipcodeOri','zipMerchant'],axis=1)"
      ],
      "execution_count": null,
      "outputs": [
        {
          "output_type": "stream",
          "text": [
            "Unique zipCodeOri values:  1\n",
            "Unique zipMerchant values:  1\n"
          ],
          "name": "stdout"
        }
      ]
    },
    {
      "cell_type": "markdown",
      "metadata": {
        "_uuid": "7f589a60028130489740b7ceaa12ca7c4879c2e7",
        "id": "UevT7d0oU0os"
      },
      "source": [
        "Checking the data after dropping."
      ]
    },
    {
      "cell_type": "code",
      "metadata": {
        "trusted": true,
        "_uuid": "4b5689fb2da6f4ab7d4ba8e707530ea10753e8bb",
        "colab": {
          "base_uri": "https://localhost:8080/"
        },
        "id": "YwT3FWVmU0os",
        "outputId": "f97ec735-926b-437c-df7e-e880ba62eec7"
      },
      "source": [
        "data_reduced.columns"
      ],
      "execution_count": null,
      "outputs": [
        {
          "output_type": "execute_result",
          "data": {
            "text/plain": [
              "Index(['step', 'customer', 'age', 'gender', 'merchant', 'category', 'amount',\n",
              "       'fraud'],\n",
              "      dtype='object')"
            ]
          },
          "metadata": {
            "tags": []
          },
          "execution_count": 36
        }
      ]
    },
    {
      "cell_type": "markdown",
      "metadata": {
        "_uuid": "5da150a203f2ab7e310af70365a4e90f7f522168",
        "id": "jQA5fL_LU0ot"
      },
      "source": [
        "Here we will transform categorical features into numerical values. It is usually better to turn these type of categorical values into dummies because they have no relation in size(i.e. customer1 is not greater than customer2) but since they are too many (over 500k customers and merchants) the features will grow 10^5 in size and it will take forever to train. I've put the code below for turning categorical features into dummies if you want to give it a try.\n",
        "> data_reduced.loc[:,['customer','merchant','category']].astype('category')\n",
        "> data_dum = pd.get_dummies(data_reduced.loc[:,['customer','merchant','category','gender']],drop_first=True) # dummies\n",
        "> print(data_dum.info())"
      ]
    },
    {
      "cell_type": "code",
      "metadata": {
        "trusted": true,
        "_uuid": "4d7d4e448b2fa8c9313810f7c24b6e010af719e4",
        "colab": {
          "base_uri": "https://localhost:8080/",
          "height": 204
        },
        "id": "kMZjX2XmU0ot",
        "outputId": "718a2f82-3ddc-4fec-906b-3724562220a8"
      },
      "source": [
        "# turning object columns type to categorical for easing the transformation process\n",
        "col_categorical = data_reduced.select_dtypes(include= ['object']).columns\n",
        "for col in col_categorical:\n",
        "    data_reduced[col] = data_reduced[col].astype('category')\n",
        "# categorical values ==> numeric values\n",
        "data_reduced[col_categorical] = data_reduced[col_categorical].apply(lambda x: x.cat.codes)\n",
        "data_reduced.head(5)"
      ],
      "execution_count": null,
      "outputs": [
        {
          "output_type": "execute_result",
          "data": {
            "text/html": [
              "<div>\n",
              "<style scoped>\n",
              "    .dataframe tbody tr th:only-of-type {\n",
              "        vertical-align: middle;\n",
              "    }\n",
              "\n",
              "    .dataframe tbody tr th {\n",
              "        vertical-align: top;\n",
              "    }\n",
              "\n",
              "    .dataframe thead th {\n",
              "        text-align: right;\n",
              "    }\n",
              "</style>\n",
              "<table border=\"1\" class=\"dataframe\">\n",
              "  <thead>\n",
              "    <tr style=\"text-align: right;\">\n",
              "      <th></th>\n",
              "      <th>step</th>\n",
              "      <th>customer</th>\n",
              "      <th>age</th>\n",
              "      <th>gender</th>\n",
              "      <th>merchant</th>\n",
              "      <th>category</th>\n",
              "      <th>amount</th>\n",
              "      <th>fraud</th>\n",
              "    </tr>\n",
              "  </thead>\n",
              "  <tbody>\n",
              "    <tr>\n",
              "      <th>0</th>\n",
              "      <td>0</td>\n",
              "      <td>210</td>\n",
              "      <td>4</td>\n",
              "      <td>2</td>\n",
              "      <td>30</td>\n",
              "      <td>12</td>\n",
              "      <td>4.55</td>\n",
              "      <td>0</td>\n",
              "    </tr>\n",
              "    <tr>\n",
              "      <th>1</th>\n",
              "      <td>0</td>\n",
              "      <td>2753</td>\n",
              "      <td>2</td>\n",
              "      <td>2</td>\n",
              "      <td>30</td>\n",
              "      <td>12</td>\n",
              "      <td>39.68</td>\n",
              "      <td>0</td>\n",
              "    </tr>\n",
              "    <tr>\n",
              "      <th>2</th>\n",
              "      <td>0</td>\n",
              "      <td>2285</td>\n",
              "      <td>4</td>\n",
              "      <td>1</td>\n",
              "      <td>18</td>\n",
              "      <td>12</td>\n",
              "      <td>26.89</td>\n",
              "      <td>0</td>\n",
              "    </tr>\n",
              "    <tr>\n",
              "      <th>3</th>\n",
              "      <td>0</td>\n",
              "      <td>1650</td>\n",
              "      <td>3</td>\n",
              "      <td>2</td>\n",
              "      <td>30</td>\n",
              "      <td>12</td>\n",
              "      <td>17.25</td>\n",
              "      <td>0</td>\n",
              "    </tr>\n",
              "    <tr>\n",
              "      <th>4</th>\n",
              "      <td>0</td>\n",
              "      <td>3585</td>\n",
              "      <td>5</td>\n",
              "      <td>2</td>\n",
              "      <td>30</td>\n",
              "      <td>12</td>\n",
              "      <td>35.72</td>\n",
              "      <td>0</td>\n",
              "    </tr>\n",
              "  </tbody>\n",
              "</table>\n",
              "</div>"
            ],
            "text/plain": [
              "   step  customer  age  gender  merchant  category  amount  fraud\n",
              "0     0       210    4       2        30        12    4.55      0\n",
              "1     0      2753    2       2        30        12   39.68      0\n",
              "2     0      2285    4       1        18        12   26.89      0\n",
              "3     0      1650    3       2        30        12   17.25      0\n",
              "4     0      3585    5       2        30        12   35.72      0"
            ]
          },
          "metadata": {
            "tags": []
          },
          "execution_count": 37
        }
      ]
    },
    {
      "cell_type": "markdown",
      "metadata": {
        "_uuid": "37f7ed8c735c17e699e36cc34699df01a2fddda8",
        "id": "lVWoAMxQU0ou"
      },
      "source": [
        "Let's define our independent variable (X) and dependant/target variable y"
      ]
    },
    {
      "cell_type": "code",
      "metadata": {
        "trusted": true,
        "_uuid": "bca1ece9de83b5f0db01cc4e3fbb9799bdcc3e22",
        "colab": {
          "base_uri": "https://localhost:8080/"
        },
        "id": "DiUINQaSU0ou",
        "outputId": "1332c470-0fce-474c-b6c1-eb6ffbc79ad2"
      },
      "source": [
        "X = data_reduced.drop(['fraud'],axis=1)\n",
        "y = data['fraud']\n",
        "print(X.head(),\"\\n\")\n",
        "print(y.head())"
      ],
      "execution_count": null,
      "outputs": [
        {
          "output_type": "stream",
          "text": [
            "   step  customer  age  gender  merchant  category  amount\n",
            "0     0       210    4       2        30        12    4.55\n",
            "1     0      2753    2       2        30        12   39.68\n",
            "2     0      2285    4       1        18        12   26.89\n",
            "3     0      1650    3       2        30        12   17.25\n",
            "4     0      3585    5       2        30        12   35.72 \n",
            "\n",
            "0    0\n",
            "1    0\n",
            "2    0\n",
            "3    0\n",
            "4    0\n",
            "Name: fraud, dtype: int64\n"
          ],
          "name": "stdout"
        }
      ]
    },
    {
      "cell_type": "code",
      "metadata": {
        "trusted": true,
        "_uuid": "474518cb2bb397a51477e826541fc33c62d2d492",
        "colab": {
          "base_uri": "https://localhost:8080/"
        },
        "id": "2r6NT8w1U0ov",
        "outputId": "e1515a52-f9f7-469d-847a-854d2e569950"
      },
      "source": [
        "y[y==1].count()"
      ],
      "execution_count": null,
      "outputs": [
        {
          "output_type": "execute_result",
          "data": {
            "text/plain": [
              "7200"
            ]
          },
          "metadata": {
            "tags": []
          },
          "execution_count": 39
        }
      ]
    },
    {
      "cell_type": "markdown",
      "metadata": {
        "_uuid": "37bca88900f65dd21a308beca5cc615fe4a40c31",
        "id": "hyouZkJ6U0ov"
      },
      "source": [
        "## Oversampling with SMOTE\n",
        "\n",
        "Using SMOTE(Synthetic Minority Oversampling Technique) [2] for balancing the dataset. Resulted counts show that now we have exact number of class instances (1 and 0)."
      ]
    },
    {
      "cell_type": "code",
      "metadata": {
        "_uuid": "784e528eb3ea2ceb20af530a516911279d5df8f4",
        "trusted": true,
        "colab": {
          "base_uri": "https://localhost:8080/"
        },
        "id": "aV_m8f7LU0ov",
        "outputId": "2eb9d51d-321b-4f81-e7f7-8eec1889a311"
      },
      "source": [
        "sm = SMOTE(random_state=42)\n",
        "X_res, y_res = sm.fit_resample(X, y)\n",
        "y_res = pd.DataFrame(y_res)\n",
        "print(y_res[0].value_counts())"
      ],
      "execution_count": null,
      "outputs": [
        {
          "output_type": "stream",
          "text": [
            "/usr/local/lib/python3.7/dist-packages/sklearn/utils/deprecation.py:87: FutureWarning: Function safe_indexing is deprecated; safe_indexing is deprecated in version 0.22 and will be removed in version 0.24.\n",
            "  warnings.warn(msg, category=FutureWarning)\n"
          ],
          "name": "stderr"
        },
        {
          "output_type": "stream",
          "text": [
            "1    587443\n",
            "0    587443\n",
            "Name: 0, dtype: int64\n"
          ],
          "name": "stdout"
        }
      ]
    },
    {
      "cell_type": "markdown",
      "metadata": {
        "_uuid": "4cafd096d0bd1bbe528eb8d5f7d943d58fd277db",
        "id": "8W7b3PlkU0ov"
      },
      "source": [
        "I will do a train test split for measuring the performance. I haven't done cross validation since we have a lot of instances and i don't want to wait that much for training but it should be better to cross validate most of the times. "
      ]
    },
    {
      "cell_type": "code",
      "metadata": {
        "trusted": true,
        "_uuid": "1c4f59c9cec206b7fa56e61a1202050f8966a94b",
        "id": "XWlodT_ZU0ow"
      },
      "source": [
        "# I won't do cross validation since we have a lot of instances\n",
        "X_train, X_test, y_train, y_test = train_test_split(X_res,y_res,test_size=0.3,random_state=42,shuffle=True,stratify=y_res)"
      ],
      "execution_count": null,
      "outputs": []
    },
    {
      "cell_type": "markdown",
      "metadata": {
        "_uuid": "47b6d299e0a3c08509066a19b2b225bf37acf0ad",
        "id": "mIvFq9LJU0ow"
      },
      "source": [
        "I will define a function for plotting the ROC_AUC curve. It is a good visual way to see the classification performance."
      ]
    },
    {
      "cell_type": "code",
      "metadata": {
        "trusted": true,
        "_uuid": "c15c0a19c3fe5402109c9e54e58d0402c40107dd",
        "id": "OX28p7QmU0ow"
      },
      "source": [
        "# %% Function for plotting ROC_AUC curve\n",
        "\n",
        "def plot_roc_auc(y_test, preds):\n",
        "    '''\n",
        "    Takes actual and predicted(probabilities) as input and plots the Receiver\n",
        "    Operating Characteristic (ROC) curve\n",
        "    '''\n",
        "    fpr, tpr, threshold = roc_curve(y_test, preds)\n",
        "    roc_auc = auc(fpr, tpr)\n",
        "    plt.title('Receiver Operating Characteristic')\n",
        "    plt.plot(fpr, tpr, 'b', label = 'AUC = %0.2f' % roc_auc)\n",
        "    plt.legend(loc = 'lower right')\n",
        "    plt.plot([0, 1], [0, 1],'r--')\n",
        "    plt.xlim([0, 1])\n",
        "    plt.ylim([0, 1])\n",
        "    plt.ylabel('True Positive Rate')\n",
        "    plt.xlabel('False Positive Rate')\n",
        "    plt.show()"
      ],
      "execution_count": null,
      "outputs": []
    },
    {
      "cell_type": "markdown",
      "metadata": {
        "_uuid": "589632daf9c07f7903870ecbf183c2057e10d4be",
        "id": "aLJZHVolU0ow"
      },
      "source": [
        "As i talked about it before fraud datasets will be imbalanced and most of the instances will be non-fraudulent. Imagine that we have the dataset here and we are always predicting non-fraudulent. Our accuracy would be almost 99 % for this dataset and mostly for others as well since fraud percentage is very low. Our accuracy is very high but we are not detecting any frauds so it is a useless classifier. So the base accuracy score should be better at least than predicting always non-fraudulent for performing a detection."
      ]
    },
    {
      "cell_type": "code",
      "metadata": {
        "trusted": true,
        "_uuid": "0bacd9ca1db82f754e402ce66b654df460d51f88",
        "colab": {
          "base_uri": "https://localhost:8080/"
        },
        "id": "6BJ2p6-ZU0ox",
        "outputId": "5dc05b03-7c8a-4870-8708-0d117b946731"
      },
      "source": [
        "# The base score should be better than predicting always non-fraduelent\n",
        "print(\"Base accuracy score we must beat is: \", \n",
        "      df_non_fraud.fraud.count()/ np.add(df_non_fraud.fraud.count(),df_fraud.fraud.count()) * 100)"
      ],
      "execution_count": null,
      "outputs": [
        {
          "output_type": "stream",
          "text": [
            "Base accuracy score we must beat is:  98.7891894800746\n"
          ],
          "name": "stdout"
        }
      ]
    },
    {
      "cell_type": "markdown",
      "metadata": {
        "_uuid": "03bf9d11a03798ff2411e93d3956d378719172d7",
        "id": "wceqLkvAU0ox"
      },
      "source": [
        "## **K-Neighbours Classifier**"
      ]
    },
    {
      "cell_type": "code",
      "metadata": {
        "trusted": true,
        "_uuid": "6d3a294403b1afbdbf18219ab0418a2e03e201e2",
        "colab": {
          "base_uri": "https://localhost:8080/",
          "height": 593
        },
        "id": "HS9XZ94KU0ox",
        "outputId": "e412d843-bdc7-420b-fdcd-41e805cd1daa"
      },
      "source": [
        "# %% K-ello Neigbors\n",
        "\n",
        "knn = KNeighborsClassifier(n_neighbors=5,p=1)\n",
        "\n",
        "knn.fit(X_train,y_train)\n",
        "y_pred = knn.predict(X_test)\n",
        "print(\"ac\",accuracy_score(y_test,y_pred))\n",
        "\n",
        "\n",
        "print(\"Classification Report for K-Nearest Neighbours: \\n\", classification_report(y_test, y_pred))\n",
        "print(\"Confusion Matrix of K-Nearest Neigbours: \\n\", confusion_matrix(y_test,y_pred))\n",
        "plot_roc_auc(y_test, knn.predict_proba(X_test)[:,1])"
      ],
      "execution_count": null,
      "outputs": [
        {
          "output_type": "stream",
          "text": [
            "/usr/local/lib/python3.7/dist-packages/ipykernel_launcher.py:5: DataConversionWarning: A column-vector y was passed when a 1d array was expected. Please change the shape of y to (n_samples, ), for example using ravel().\n",
            "  \"\"\"\n"
          ],
          "name": "stderr"
        },
        {
          "output_type": "stream",
          "text": [
            "ac 0.9870398846980986\n",
            "Classification Report for K-Nearest Neighbours: \n",
            "               precision    recall  f1-score   support\n",
            "\n",
            "           0       1.00      0.98      0.99    176233\n",
            "           1       0.98      1.00      0.99    176233\n",
            "\n",
            "    accuracy                           0.99    352466\n",
            "   macro avg       0.99      0.99      0.99    352466\n",
            "weighted avg       0.99      0.99      0.99    352466\n",
            "\n",
            "Confusion Matrix of K-Nearest Neigbours: \n",
            " [[172041   4192]\n",
            " [   376 175857]]\n"
          ],
          "name": "stdout"
        },
        {
          "output_type": "display_data",
          "data": {
            "image/png": "[encoded data removed]",
            "text/plain": [
              "<Figure size 432x288 with 1 Axes>"
            ]
          },
          "metadata": {
            "tags": []
          }
        }
      ]
    },
    {
      "cell_type": "markdown",
      "metadata": {
        "_uuid": "7fed4c48fb1a0b6d73df873c8492847b03b069c4",
        "id": "veFucdAUU0ox"
      },
      "source": [
        "## **Random Forest Classifier**"
      ]
    },
    {
      "cell_type": "code",
      "metadata": {
        "trusted": true,
        "_uuid": "b320aa8bea1fbf19ef198905ad7f7a365561ccdd",
        "colab": {
          "base_uri": "https://localhost:8080/",
          "height": 678
        },
        "id": "edoT-ybMU0ox",
        "outputId": "6450a720-219e-43c7-e052-20a21a758831"
      },
      "source": [
        "# %% Random Forest Classifier\n",
        "\n",
        "rf_clf = RandomForestClassifier(n_estimators=100,max_depth=8,random_state=42,\n",
        "                                verbose=1,class_weight=\"balanced\")\n",
        "\n",
        "rf_clf.fit(X_train,y_train)\n",
        "y_pred = rf_clf.predict(X_test)\n",
        "\n",
        "print(\"Classification Report for Random Forest Classifier: \\n\", classification_report(y_test, y_pred))\n",
        "print(\"Confusion Matrix of Random Forest Classifier: \\n\", confusion_matrix(y_test,y_pred))\n",
        "plot_roc_auc(y_test, rf_clf.predict_proba(X_test)[:,1])"
      ],
      "execution_count": null,
      "outputs": [
        {
          "output_type": "stream",
          "text": [
            "/usr/local/lib/python3.7/dist-packages/ipykernel_launcher.py:6: DataConversionWarning: A column-vector y was passed when a 1d array was expected. Please change the shape of y to (n_samples,), for example using ravel().\n",
            "  \n",
            "[Parallel(n_jobs=1)]: Using backend SequentialBackend with 1 concurrent workers.\n",
            "[Parallel(n_jobs=1)]: Done 100 out of 100 | elapsed:  2.0min finished\n",
            "[Parallel(n_jobs=1)]: Using backend SequentialBackend with 1 concurrent workers.\n",
            "[Parallel(n_jobs=1)]: Done 100 out of 100 | elapsed:    2.8s finished\n"
          ],
          "name": "stderr"
        },
        {
          "output_type": "stream",
          "text": [
            "Classification Report for Random Forest Classifier: \n",
            "               precision    recall  f1-score   support\n",
            "\n",
            "           0       1.00      0.97      0.98    176233\n",
            "           1       0.97      1.00      0.98    176233\n",
            "\n",
            "    accuracy                           0.98    352466\n",
            "   macro avg       0.99      0.98      0.98    352466\n",
            "weighted avg       0.99      0.98      0.98    352466\n",
            "\n",
            "Confusion Matrix of Random Forest Classifier: \n",
            " [[171433   4800]\n",
            " [   583 175650]]\n"
          ],
          "name": "stdout"
        },
        {
          "output_type": "stream",
          "text": [
            "[Parallel(n_jobs=1)]: Using backend SequentialBackend with 1 concurrent workers.\n",
            "[Parallel(n_jobs=1)]: Done 100 out of 100 | elapsed:    2.8s finished\n"
          ],
          "name": "stderr"
        },
        {
          "output_type": "display_data",
          "data": {
            "image/png": "[encoded data removed]",
            "text/plain": [
              "<Figure size 432x288 with 1 Axes>"
            ]
          },
          "metadata": {
            "tags": []
          }
        }
      ]
    },
    {
      "cell_type": "markdown",
      "metadata": {
        "_uuid": "ef0e8b46a02a3ba1e3b7df37a4b9279428569adb",
        "id": "EcJpgN9GU0oy"
      },
      "source": [
        "## Conclusion\n",
        "\n",
        "In this kernel we have tried to do fraud detection on a bank payment data and we have achieved remarkable results with our classifiers. Since fraud datasets have an imbalance class problem we performed an oversampling technique called SMOTE and generated new minority class examples. I haven't put the classification results without SMOTE here but i added them in my github repo before so if you are interested to compare both results you can also check [my github repo](https://github.com/atavci/fraud-detection-on-banksim-data). \n",
        "\n",
        "Thanks for taking the time to read or just view the results from my first kernel i hope you enjoyed it. I would be grateful for any kind of critique, suggestion or comment and i wish you to have a great day with lots of beautiful data!"
      ]
    },
    {
      "cell_type": "markdown",
      "metadata": {
        "_uuid": "3d840bf8b52b3514a2ae86f17f2bed7235f4a927",
        "id": "3nzGX0koU0oy"
      },
      "source": [
        "## Resources\n",
        "\n",
        "\n",
        "[[1]](#-1). Lavion, Didier; et al. [\"PwC's Global Economic Crime and Fraud Survey 2018\"](https://www.pwc.com/gx/en/forensics/global-economic-crime-and-fraud-survey-2018.pdf) (PDF). PwC.com. Retrieved 28 August 2018. \n",
        "\n",
        "[[2]](#2). [SMOTE: Synthetic Minority Over-sampling Technique](https://jair.org/index.php/jair/article/view/10302)"
      ]
    },
    {
      "cell_type": "code",
      "metadata": {
        "trusted": true,
        "id": "wY5T_CLnU0oy"
      },
      "source": [],
      "execution_count": null,
      "outputs": []
    }
  ]
}