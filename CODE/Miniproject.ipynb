{
  "nbformat": 4,
  "nbformat_minor": 0,
  "metadata": {
    "colab": {
      "name": "Miniproject",
      "provenance": [],
      "collapsed_sections": []
    },
    "kernelspec": {
      "name": "python3",
      "display_name": "Python 3"
    }
  },
  "cells": [
    {
      "cell_type": "markdown",
      "metadata": {
        "id": "jY69gbocGRB4"
      },
      "source": [
        " \n",
        ">Name: Kammari Santhosh\n",
        "\n",
        ">Roll no:2018IMT-043\n",
        "\n"
      ]
    },
    {
      "cell_type": "markdown",
      "metadata": {
        "id": "M4LbM-mJDdhU"
      },
      "source": [
        "#DATA ANALYSIS AND PREPROCESSING"
      ]
    },
    {
      "cell_type": "code",
      "metadata": {
        "id": "7cauJNCSF5JV"
      },
      "source": [
        "#import libraries\n",
        "import pandas as pd\n",
        "import numpy as np\n",
        "import matplotlib.pyplot as plt\n",
        "import seaborn as sns\n",
        "from imblearn.over_sampling import SMOTE\n",
        "from imblearn.under_sampling import NearMiss \n",
        "\n",
        "\n",
        "from sklearn.model_selection import train_test_split\n",
        "from sklearn.metrics import confusion_matrix, classification_report,accuracy_score\n",
        "from sklearn.linear_model import LogisticRegression\n",
        "from sklearn.neighbors import KNeighborsClassifier\n",
        "from sklearn.ensemble import RandomForestClassifier\n",
        "from sklearn.tree import DecisionTreeClassifier\n",
        "from sklearn.preprocessing import StandardScaler\n",
        "from sklearn import tree\n",
        "from matplotlib.colors import ListedColormap\n",
        "import sys"
      ],
      "execution_count": null,
      "outputs": []
    },
    {
      "cell_type": "markdown",
      "metadata": {
        "id": "VkmvoxY3GIjO"
      },
      "source": [
        "Reading dataset\n"
      ]
    },
    {
      "cell_type": "code",
      "metadata": {
        "colab": {
          "base_uri": "https://localhost:8080/"
        },
        "id": "TvHduEvTeRPB",
        "outputId": "628eac92-ad4a-4403-b040-38090b13c9c4"
      },
      "source": [
        "from google.colab import drive\n",
        "drive.mount('/content/drive')"
      ],
      "execution_count": null,
      "outputs": [
        {
          "output_type": "stream",
          "text": [
            "Drive already mounted at /content/drive; to attempt to forcibly remount, call drive.mount(\"/content/drive\", force_remount=True).\n"
          ],
          "name": "stdout"
        }
      ]
    },
    {
      "cell_type": "code",
      "metadata": {
        "id": "SupKW0xgGMJU",
        "colab": {
          "base_uri": "https://localhost:8080/",
          "height": 297
        },
        "outputId": "3d25c7b4-5b11-41a5-8e07-18e5fc97444a"
      },
      "source": [
        "DATA='/content/drive/MyDrive/Data/bs140513_032310.csv'\n",
        "dataset=pd.read_csv(DATA)\n",
        "dataset.head(8)"
      ],
      "execution_count": null,
      "outputs": [
        {
          "output_type": "execute_result",
          "data": {
            "text/html": [
              "<div>\n",
              "<style scoped>\n",
              "    .dataframe tbody tr th:only-of-type {\n",
              "        vertical-align: middle;\n",
              "    }\n",
              "\n",
              "    .dataframe tbody tr th {\n",
              "        vertical-align: top;\n",
              "    }\n",
              "\n",
              "    .dataframe thead th {\n",
              "        text-align: right;\n",
              "    }\n",
              "</style>\n",
              "<table border=\"1\" class=\"dataframe\">\n",
              "  <thead>\n",
              "    <tr style=\"text-align: right;\">\n",
              "      <th></th>\n",
              "      <th>step</th>\n",
              "      <th>customer</th>\n",
              "      <th>age</th>\n",
              "      <th>gender</th>\n",
              "      <th>zipcodeOri</th>\n",
              "      <th>merchant</th>\n",
              "      <th>zipMerchant</th>\n",
              "      <th>category</th>\n",
              "      <th>amount</th>\n",
              "      <th>fraud</th>\n",
              "    </tr>\n",
              "  </thead>\n",
              "  <tbody>\n",
              "    <tr>\n",
              "      <th>0</th>\n",
              "      <td>0</td>\n",
              "      <td>'C1093826151'</td>\n",
              "      <td>'4'</td>\n",
              "      <td>'M'</td>\n",
              "      <td>'28007'</td>\n",
              "      <td>'M348934600'</td>\n",
              "      <td>'28007'</td>\n",
              "      <td>'es_transportation'</td>\n",
              "      <td>4.55</td>\n",
              "      <td>0</td>\n",
              "    </tr>\n",
              "    <tr>\n",
              "      <th>1</th>\n",
              "      <td>0</td>\n",
              "      <td>'C352968107'</td>\n",
              "      <td>'2'</td>\n",
              "      <td>'M'</td>\n",
              "      <td>'28007'</td>\n",
              "      <td>'M348934600'</td>\n",
              "      <td>'28007'</td>\n",
              "      <td>'es_transportation'</td>\n",
              "      <td>39.68</td>\n",
              "      <td>0</td>\n",
              "    </tr>\n",
              "    <tr>\n",
              "      <th>2</th>\n",
              "      <td>0</td>\n",
              "      <td>'C2054744914'</td>\n",
              "      <td>'4'</td>\n",
              "      <td>'F'</td>\n",
              "      <td>'28007'</td>\n",
              "      <td>'M1823072687'</td>\n",
              "      <td>'28007'</td>\n",
              "      <td>'es_transportation'</td>\n",
              "      <td>26.89</td>\n",
              "      <td>0</td>\n",
              "    </tr>\n",
              "    <tr>\n",
              "      <th>3</th>\n",
              "      <td>0</td>\n",
              "      <td>'C1760612790'</td>\n",
              "      <td>'3'</td>\n",
              "      <td>'M'</td>\n",
              "      <td>'28007'</td>\n",
              "      <td>'M348934600'</td>\n",
              "      <td>'28007'</td>\n",
              "      <td>'es_transportation'</td>\n",
              "      <td>17.25</td>\n",
              "      <td>0</td>\n",
              "    </tr>\n",
              "    <tr>\n",
              "      <th>4</th>\n",
              "      <td>0</td>\n",
              "      <td>'C757503768'</td>\n",
              "      <td>'5'</td>\n",
              "      <td>'M'</td>\n",
              "      <td>'28007'</td>\n",
              "      <td>'M348934600'</td>\n",
              "      <td>'28007'</td>\n",
              "      <td>'es_transportation'</td>\n",
              "      <td>35.72</td>\n",
              "      <td>0</td>\n",
              "    </tr>\n",
              "    <tr>\n",
              "      <th>5</th>\n",
              "      <td>0</td>\n",
              "      <td>'C1315400589'</td>\n",
              "      <td>'3'</td>\n",
              "      <td>'F'</td>\n",
              "      <td>'28007'</td>\n",
              "      <td>'M348934600'</td>\n",
              "      <td>'28007'</td>\n",
              "      <td>'es_transportation'</td>\n",
              "      <td>25.81</td>\n",
              "      <td>0</td>\n",
              "    </tr>\n",
              "    <tr>\n",
              "      <th>6</th>\n",
              "      <td>0</td>\n",
              "      <td>'C765155274'</td>\n",
              "      <td>'1'</td>\n",
              "      <td>'F'</td>\n",
              "      <td>'28007'</td>\n",
              "      <td>'M348934600'</td>\n",
              "      <td>'28007'</td>\n",
              "      <td>'es_transportation'</td>\n",
              "      <td>9.10</td>\n",
              "      <td>0</td>\n",
              "    </tr>\n",
              "    <tr>\n",
              "      <th>7</th>\n",
              "      <td>0</td>\n",
              "      <td>'C202531238'</td>\n",
              "      <td>'4'</td>\n",
              "      <td>'F'</td>\n",
              "      <td>'28007'</td>\n",
              "      <td>'M348934600'</td>\n",
              "      <td>'28007'</td>\n",
              "      <td>'es_transportation'</td>\n",
              "      <td>21.17</td>\n",
              "      <td>0</td>\n",
              "    </tr>\n",
              "  </tbody>\n",
              "</table>\n",
              "</div>"
            ],
            "text/plain": [
              "   step       customer  age  ...             category amount fraud\n",
              "0     0  'C1093826151'  '4'  ...  'es_transportation'   4.55     0\n",
              "1     0   'C352968107'  '2'  ...  'es_transportation'  39.68     0\n",
              "2     0  'C2054744914'  '4'  ...  'es_transportation'  26.89     0\n",
              "3     0  'C1760612790'  '3'  ...  'es_transportation'  17.25     0\n",
              "4     0   'C757503768'  '5'  ...  'es_transportation'  35.72     0\n",
              "5     0  'C1315400589'  '3'  ...  'es_transportation'  25.81     0\n",
              "6     0   'C765155274'  '1'  ...  'es_transportation'   9.10     0\n",
              "7     0   'C202531238'  '4'  ...  'es_transportation'  21.17     0\n",
              "\n",
              "[8 rows x 10 columns]"
            ]
          },
          "metadata": {
            "tags": []
          },
          "execution_count": 282
        }
      ]
    },
    {
      "cell_type": "code",
      "metadata": {
        "id": "2o5G2n2CfRxZ",
        "colab": {
          "base_uri": "https://localhost:8080/"
        },
        "outputId": "4b64c571-131d-4a1c-93c9-85804e5c1e5b"
      },
      "source": [
        "S=dataset.shape\n",
        "N=S[0]                          #N=no of  transactions\n",
        "M=S[1]                          #M=no of features\n",
        "print(\"The no of examples taken=\",N)\n",
        "print()\n",
        "print(\"No of features used=\",M) "
      ],
      "execution_count": null,
      "outputs": [
        {
          "output_type": "stream",
          "text": [
            "The no of examples taken= 594643\n",
            "\n",
            "No of features used= 10\n"
          ],
          "name": "stdout"
        }
      ]
    },
    {
      "cell_type": "markdown",
      "metadata": {
        "id": "u63FcaQTiEYO"
      },
      "source": [
        "search for missing"
      ]
    },
    {
      "cell_type": "code",
      "metadata": {
        "id": "4ugP_BEkWYj6",
        "colab": {
          "base_uri": "https://localhost:8080/"
        },
        "outputId": "d0fa47c9-e0c1-4991-b196-be4da7afa9e9"
      },
      "source": [
        "dataset.info()"
      ],
      "execution_count": null,
      "outputs": [
        {
          "output_type": "stream",
          "text": [
            "<class 'pandas.core.frame.DataFrame'>\n",
            "RangeIndex: 594643 entries, 0 to 594642\n",
            "Data columns (total 10 columns):\n",
            " #   Column       Non-Null Count   Dtype  \n",
            "---  ------       --------------   -----  \n",
            " 0   step         594643 non-null  int64  \n",
            " 1   customer     594643 non-null  object \n",
            " 2   age          594643 non-null  object \n",
            " 3   gender       594643 non-null  object \n",
            " 4   zipcodeOri   594643 non-null  object \n",
            " 5   merchant     594643 non-null  object \n",
            " 6   zipMerchant  594643 non-null  object \n",
            " 7   category     594643 non-null  object \n",
            " 8   amount       594643 non-null  float64\n",
            " 9   fraud        594643 non-null  int64  \n",
            "dtypes: float64(1), int64(2), object(7)\n",
            "memory usage: 45.4+ MB\n"
          ],
          "name": "stdout"
        }
      ]
    },
    {
      "cell_type": "code",
      "metadata": {
        "id": "FE5MzyuZiOoH",
        "colab": {
          "base_uri": "https://localhost:8080/"
        },
        "outputId": "99a45417-d059-41ec-8004-551254d46cfc"
      },
      "source": [
        "booldataset=dataset.isna()             #sets Nan values to bool\n",
        "booldataset.any()                      #sum over columns\n",
        "x=booldataset.any().sum()                #return no of nan values\n",
        "print(\"No of Null values in given dataset =\",x)\n"
      ],
      "execution_count": null,
      "outputs": [
        {
          "output_type": "stream",
          "text": [
            "No of Null values in given dataset = 0\n"
          ],
          "name": "stdout"
        }
      ]
    },
    {
      "cell_type": "code",
      "metadata": {
        "id": "obslHOrRWcYa"
      },
      "source": [
        "#dataset.columns"
      ],
      "execution_count": null,
      "outputs": []
    },
    {
      "cell_type": "code",
      "metadata": {
        "id": "gdidry3EiUJ-"
      },
      "source": [
        "#features=['step','customer','age','gender','merchant','category','amount','fraud']\n",
        "#plt.figure(figsize=(15,30))\n",
        "#i=1\n",
        "#for j in range(8):\n",
        "  #plt.subplot(6,3,i)\n",
        " # sns.countplot(dataset[features[j]],data=dataset)\n",
        "  #i=i+1"
      ],
      "execution_count": null,
      "outputs": []
    },
    {
      "cell_type": "code",
      "metadata": {
        "id": "9g7-0EQ4GUKf",
        "colab": {
          "base_uri": "https://localhost:8080/"
        },
        "outputId": "0b58db10-3e45-435f-dba4-91b62a015def"
      },
      "source": [
        "print(dataset)"
      ],
      "execution_count": null,
      "outputs": [
        {
          "output_type": "stream",
          "text": [
            "        step       customer  age  ...             category amount fraud\n",
            "0          0  'C1093826151'  '4'  ...  'es_transportation'   4.55     0\n",
            "1          0   'C352968107'  '2'  ...  'es_transportation'  39.68     0\n",
            "2          0  'C2054744914'  '4'  ...  'es_transportation'  26.89     0\n",
            "3          0  'C1760612790'  '3'  ...  'es_transportation'  17.25     0\n",
            "4          0   'C757503768'  '5'  ...  'es_transportation'  35.72     0\n",
            "...      ...            ...  ...  ...                  ...    ...   ...\n",
            "594638   179  'C1753498738'  '3'  ...  'es_transportation'  20.53     0\n",
            "594639   179   'C650108285'  '4'  ...  'es_transportation'  50.73     0\n",
            "594640   179   'C123623130'  '2'  ...         'es_fashion'  22.44     0\n",
            "594641   179  'C1499363341'  '5'  ...  'es_transportation'  14.46     0\n",
            "594642   179   'C616528518'  '4'  ...  'es_transportation'  26.93     0\n",
            "\n",
            "[594643 rows x 10 columns]\n"
          ],
          "name": "stdout"
        }
      ]
    },
    {
      "cell_type": "code",
      "metadata": {
        "id": "zqn9jIxE5qxL",
        "colab": {
          "base_uri": "https://localhost:8080/"
        },
        "outputId": "7a993e31-1826-4a08-f77e-c48a8c3aa650"
      },
      "source": [
        "data_found_fraud = dataset.loc[dataset.fraud == 1]\n",
        "data_non_fraud = dataset.loc[dataset.fraud == 0]\n",
        "print(\"FRAUD\")\n",
        "print(data_found_fraud.head(4))\n",
        "print(\"NOT FRAUD\")\n",
        "print(data_non_fraud.head(4))\n",
        "\n"
      ],
      "execution_count": null,
      "outputs": [
        {
          "output_type": "stream",
          "text": [
            "FRAUD\n",
            "     step       customer  age  ...            category  amount fraud\n",
            "88      0   'C583110837'  '3'  ...         'es_health'   44.26     1\n",
            "89      0  'C1332295774'  '3'  ...         'es_health'  324.50     1\n",
            "434     0  'C1160421902'  '3'  ...  'es_hotelservices'  176.32     1\n",
            "435     0   'C966214713'  '3'  ...  'es_hotelservices'  337.41     1\n",
            "\n",
            "[4 rows x 10 columns]\n",
            "NOT FRAUD\n",
            "   step       customer  age  ...             category amount fraud\n",
            "0     0  'C1093826151'  '4'  ...  'es_transportation'   4.55     0\n",
            "1     0   'C352968107'  '2'  ...  'es_transportation'  39.68     0\n",
            "2     0  'C2054744914'  '4'  ...  'es_transportation'  26.89     0\n",
            "3     0  'C1760612790'  '3'  ...  'es_transportation'  17.25     0\n",
            "\n",
            "[4 rows x 10 columns]\n"
          ],
          "name": "stdout"
        }
      ]
    },
    {
      "cell_type": "code",
      "metadata": {
        "id": "jEJlaoA6Y_Ho",
        "colab": {
          "base_uri": "https://localhost:8080/",
          "height": 438
        },
        "outputId": "601b3b70-9ecd-4786-b5af-9fc6b0b564dc"
      },
      "source": [
        "#plotting fraud and non fraud data sets\n",
        "sns.countplot(x=\"fraud\",data=dataset)\n",
        "plt.title(\"counting the no of fraud data in dataset\")\n",
        "plt.rcParams['figure.figsize'] = (6, 6)\n",
        "plt.show()\n",
        "#printing no of normal exmples vs the fradulent examples\n",
        "print(\"Number of  examples: \",data_non_fraud.fraud.count())\n",
        "print(\"Number of fradulent examples: \",data_found_fraud.fraud.count())"
      ],
      "execution_count": null,
      "outputs": [
        {
          "output_type": "display_data",
          "data": {
            "image/png": "[encoded data removed]",
            "text/plain": [
              "<Figure size 432x432 with 1 Axes>"
            ]
          },
          "metadata": {
            "tags": [],
            "needs_background": "light"
          }
        },
        {
          "output_type": "stream",
          "text": [
            "Number of  examples:  587443\n",
            "Number of fradulent examples:  7200\n"
          ],
          "name": "stdout"
        }
      ]
    },
    {
      "cell_type": "code",
      "metadata": {
        "id": "awXEf-1_i9F-",
        "colab": {
          "base_uri": "https://localhost:8080/"
        },
        "outputId": "4ed626d4-4f55-4e76-bf47-470eb22267ab"
      },
      "source": [
        "mean_category=dataset.groupby('category')['amount','fraud'].mean()\n",
        "print(\"mean of features by category\",mean_category)"
      ],
      "execution_count": null,
      "outputs": [
        {
          "output_type": "stream",
          "text": [
            "mean of features by category                               amount     fraud\n",
            "category                                      \n",
            "'es_barsandrestaurants'    43.461014  0.018829\n",
            "'es_contents'              44.547571  0.000000\n",
            "'es_fashion'               65.666642  0.017973\n",
            "'es_food'                  37.070405  0.000000\n",
            "'es_health'               135.621367  0.105126\n",
            "'es_home'                 165.670846  0.152064\n",
            "'es_hotelservices'        205.614249  0.314220\n",
            "'es_hyper'                 45.970421  0.045917\n",
            "'es_leisure'              288.911303  0.949900\n",
            "'es_otherservices'        135.881524  0.250000\n",
            "'es_sportsandtoys'        215.715280  0.495252\n",
            "'es_tech'                 120.947937  0.066667\n",
            "'es_transportation'        26.958187  0.000000\n",
            "'es_travel'              2250.409190  0.793956\n",
            "'es_wellnessandbeauty'     65.511221  0.047594\n"
          ],
          "name": "stdout"
        },
        {
          "output_type": "stream",
          "text": [
            "/usr/local/lib/python3.7/dist-packages/ipykernel_launcher.py:1: FutureWarning: Indexing with multiple keys (implicitly converted to a tuple of keys) will be deprecated, use a list instead.\n",
            "  \"\"\"Entry point for launching an IPython kernel.\n"
          ],
          "name": "stderr"
        }
      ]
    },
    {
      "cell_type": "code",
      "metadata": {
        "id": "IQejd0LMkpYS",
        "colab": {
          "base_uri": "https://localhost:8080/",
          "height": 514
        },
        "outputId": "2acd1e4c-e1df-45e9-ad5e-4ef7c96b7934"
      },
      "source": [
        "mf=data_found_fraud.groupby('category')['amount'].mean()\n",
        "mnf=data_non_fraud.groupby('category')['amount'].mean()\n",
        "md=dataset.groupby('category')['fraud'].mean()*100\n",
        "cmpframe=pd.concat([mf,mnf,md],keys=[\"fraud\",\"non-fraud\",\"percentage_fraud\"],axis=1)\n",
        "cmpframe.sort_values(by=\"non-fraud\")\n"
      ],
      "execution_count": null,
      "outputs": [
        {
          "output_type": "execute_result",
          "data": {
            "text/html": [
              "<div>\n",
              "<style scoped>\n",
              "    .dataframe tbody tr th:only-of-type {\n",
              "        vertical-align: middle;\n",
              "    }\n",
              "\n",
              "    .dataframe tbody tr th {\n",
              "        vertical-align: top;\n",
              "    }\n",
              "\n",
              "    .dataframe thead th {\n",
              "        text-align: right;\n",
              "    }\n",
              "</style>\n",
              "<table border=\"1\" class=\"dataframe\">\n",
              "  <thead>\n",
              "    <tr style=\"text-align: right;\">\n",
              "      <th></th>\n",
              "      <th>fraud</th>\n",
              "      <th>non-fraud</th>\n",
              "      <th>percentage_fraud</th>\n",
              "    </tr>\n",
              "  </thead>\n",
              "  <tbody>\n",
              "    <tr>\n",
              "      <th>'es_transportation'</th>\n",
              "      <td>NaN</td>\n",
              "      <td>26.958187</td>\n",
              "      <td>0.000000</td>\n",
              "    </tr>\n",
              "    <tr>\n",
              "      <th>'es_food'</th>\n",
              "      <td>NaN</td>\n",
              "      <td>37.070405</td>\n",
              "      <td>0.000000</td>\n",
              "    </tr>\n",
              "    <tr>\n",
              "      <th>'es_hyper'</th>\n",
              "      <td>169.255429</td>\n",
              "      <td>40.037145</td>\n",
              "      <td>4.591669</td>\n",
              "    </tr>\n",
              "    <tr>\n",
              "      <th>'es_barsandrestaurants'</th>\n",
              "      <td>164.092667</td>\n",
              "      <td>41.145997</td>\n",
              "      <td>1.882944</td>\n",
              "    </tr>\n",
              "    <tr>\n",
              "      <th>'es_contents'</th>\n",
              "      <td>NaN</td>\n",
              "      <td>44.547571</td>\n",
              "      <td>0.000000</td>\n",
              "    </tr>\n",
              "    <tr>\n",
              "      <th>'es_wellnessandbeauty'</th>\n",
              "      <td>229.422535</td>\n",
              "      <td>57.320219</td>\n",
              "      <td>4.759380</td>\n",
              "    </tr>\n",
              "    <tr>\n",
              "      <th>'es_fashion'</th>\n",
              "      <td>247.008190</td>\n",
              "      <td>62.347674</td>\n",
              "      <td>1.797335</td>\n",
              "    </tr>\n",
              "    <tr>\n",
              "      <th>'es_leisure'</th>\n",
              "      <td>300.286878</td>\n",
              "      <td>73.230400</td>\n",
              "      <td>94.989980</td>\n",
              "    </tr>\n",
              "    <tr>\n",
              "      <th>'es_otherservices'</th>\n",
              "      <td>316.469605</td>\n",
              "      <td>75.685497</td>\n",
              "      <td>25.000000</td>\n",
              "    </tr>\n",
              "    <tr>\n",
              "      <th>'es_sportsandtoys'</th>\n",
              "      <td>345.366811</td>\n",
              "      <td>88.502738</td>\n",
              "      <td>49.525237</td>\n",
              "    </tr>\n",
              "    <tr>\n",
              "      <th>'es_tech'</th>\n",
              "      <td>415.274114</td>\n",
              "      <td>99.924638</td>\n",
              "      <td>6.666667</td>\n",
              "    </tr>\n",
              "    <tr>\n",
              "      <th>'es_health'</th>\n",
              "      <td>407.031338</td>\n",
              "      <td>103.737228</td>\n",
              "      <td>10.512614</td>\n",
              "    </tr>\n",
              "    <tr>\n",
              "      <th>'es_hotelservices'</th>\n",
              "      <td>421.823339</td>\n",
              "      <td>106.548545</td>\n",
              "      <td>31.422018</td>\n",
              "    </tr>\n",
              "    <tr>\n",
              "      <th>'es_home'</th>\n",
              "      <td>457.484834</td>\n",
              "      <td>113.338409</td>\n",
              "      <td>15.206445</td>\n",
              "    </tr>\n",
              "    <tr>\n",
              "      <th>'es_travel'</th>\n",
              "      <td>2660.802872</td>\n",
              "      <td>669.025533</td>\n",
              "      <td>79.395604</td>\n",
              "    </tr>\n",
              "  </tbody>\n",
              "</table>\n",
              "</div>"
            ],
            "text/plain": [
              "                               fraud   non-fraud  percentage_fraud\n",
              "'es_transportation'              NaN   26.958187          0.000000\n",
              "'es_food'                        NaN   37.070405          0.000000\n",
              "'es_hyper'                169.255429   40.037145          4.591669\n",
              "'es_barsandrestaurants'   164.092667   41.145997          1.882944\n",
              "'es_contents'                    NaN   44.547571          0.000000\n",
              "'es_wellnessandbeauty'    229.422535   57.320219          4.759380\n",
              "'es_fashion'              247.008190   62.347674          1.797335\n",
              "'es_leisure'              300.286878   73.230400         94.989980\n",
              "'es_otherservices'        316.469605   75.685497         25.000000\n",
              "'es_sportsandtoys'        345.366811   88.502738         49.525237\n",
              "'es_tech'                 415.274114   99.924638          6.666667\n",
              "'es_health'               407.031338  103.737228         10.512614\n",
              "'es_hotelservices'        421.823339  106.548545         31.422018\n",
              "'es_home'                 457.484834  113.338409         15.206445\n",
              "'es_travel'              2660.802872  669.025533         79.395604"
            ]
          },
          "metadata": {
            "tags": []
          },
          "execution_count": 292
        }
      ]
    },
    {
      "cell_type": "markdown",
      "metadata": {
        "id": "jYYoNh3jm7-9"
      },
      "source": [
        ""
      ]
    },
    {
      "cell_type": "code",
      "metadata": {
        "id": "0rvoYfZ7qtKH",
        "colab": {
          "base_uri": "https://localhost:8080/",
          "height": 390
        },
        "outputId": "bb970c2e-31a3-4fb9-cbca-24b0b6670834"
      },
      "source": [
        "plt.hist(data_found_fraud.amount,alpha=0.5,label=\"fraud\",bins=100,edgecolor=\"black\")\n",
        "plt.hist(data_non_fraud.amount,alpha=0.5,label=\"non-fraud\",bins=100,edgecolor=\"black\")\n",
        "plt.xlim(0,1000)\n",
        "plt.ylim(0,10000)\n",
        "\n",
        "plt.title(\"Histogram for fradulent and non-fradulent amounts\")\n",
        "plt.legend()\n",
        "plt.show()\n",
        "\n"
      ],
      "execution_count": null,
      "outputs": [
        {
          "output_type": "display_data",
          "data": {
            "image/png": "[encoded data removed]",
            "text/plain": [
              "<Figure size 432x432 with 1 Axes>"
            ]
          },
          "metadata": {
            "tags": [],
            "needs_background": "light"
          }
        }
      ]
    },
    {
      "cell_type": "code",
      "metadata": {
        "id": "PZJa1tio0TRj",
        "colab": {
          "base_uri": "https://localhost:8080/",
          "height": 297
        },
        "outputId": "ea065856-d265-4d2e-ff0d-27dee034d99c"
      },
      "source": [
        "age_fraud=dataset.groupby('age')['fraud'].mean()*100\n",
        "age_fraud.reset_index().rename(columns={'age':'Age','fraud':'fraud-mean'})\n",
        "\n",
        "\n"
      ],
      "execution_count": null,
      "outputs": [
        {
          "output_type": "execute_result",
          "data": {
            "text/html": [
              "<div>\n",
              "<style scoped>\n",
              "    .dataframe tbody tr th:only-of-type {\n",
              "        vertical-align: middle;\n",
              "    }\n",
              "\n",
              "    .dataframe tbody tr th {\n",
              "        vertical-align: top;\n",
              "    }\n",
              "\n",
              "    .dataframe thead th {\n",
              "        text-align: right;\n",
              "    }\n",
              "</style>\n",
              "<table border=\"1\" class=\"dataframe\">\n",
              "  <thead>\n",
              "    <tr style=\"text-align: right;\">\n",
              "      <th></th>\n",
              "      <th>Age</th>\n",
              "      <th>fraud-mean</th>\n",
              "    </tr>\n",
              "  </thead>\n",
              "  <tbody>\n",
              "    <tr>\n",
              "      <th>0</th>\n",
              "      <td>'0'</td>\n",
              "      <td>1.957586</td>\n",
              "    </tr>\n",
              "    <tr>\n",
              "      <th>1</th>\n",
              "      <td>'1'</td>\n",
              "      <td>1.185254</td>\n",
              "    </tr>\n",
              "    <tr>\n",
              "      <th>2</th>\n",
              "      <td>'2'</td>\n",
              "      <td>1.251401</td>\n",
              "    </tr>\n",
              "    <tr>\n",
              "      <th>3</th>\n",
              "      <td>'3'</td>\n",
              "      <td>1.192815</td>\n",
              "    </tr>\n",
              "    <tr>\n",
              "      <th>4</th>\n",
              "      <td>'4'</td>\n",
              "      <td>1.293281</td>\n",
              "    </tr>\n",
              "    <tr>\n",
              "      <th>5</th>\n",
              "      <td>'5'</td>\n",
              "      <td>1.095112</td>\n",
              "    </tr>\n",
              "    <tr>\n",
              "      <th>6</th>\n",
              "      <td>'6'</td>\n",
              "      <td>0.974826</td>\n",
              "    </tr>\n",
              "    <tr>\n",
              "      <th>7</th>\n",
              "      <td>'U'</td>\n",
              "      <td>0.594228</td>\n",
              "    </tr>\n",
              "  </tbody>\n",
              "</table>\n",
              "</div>"
            ],
            "text/plain": [
              "   Age  fraud-mean\n",
              "0  '0'    1.957586\n",
              "1  '1'    1.185254\n",
              "2  '2'    1.251401\n",
              "3  '3'    1.192815\n",
              "4  '4'    1.293281\n",
              "5  '5'    1.095112\n",
              "6  '6'    0.974826\n",
              "7  'U'    0.594228"
            ]
          },
          "metadata": {
            "tags": []
          },
          "execution_count": 294
        }
      ]
    },
    {
      "cell_type": "markdown",
      "metadata": {
        "id": "4qEUDI5i3hvS"
      },
      "source": [
        "\n",
        "from the above analysis age below 18 i.e (0)th category has more chance of fraud occuring"
      ]
    },
    {
      "cell_type": "markdown",
      "metadata": {
        "id": "__aO482cW3n4"
      },
      "source": [
        "# algorithms"
      ]
    },
    {
      "cell_type": "code",
      "metadata": {
        "id": "3alnTX0D33Bj",
        "colab": {
          "base_uri": "https://localhost:8080/"
        },
        "outputId": "596f4692-d3e4-46b0-b93c-b17655ab6f97"
      },
      "source": [
        "dzip=dataset.zipcodeOri.nunique()\n",
        "dmer=dataset.zipMerchant.nunique()\n",
        "                                                      \n",
        "# erasing the zipCodeOri and zipMerchant values from the dataset\"\n",
        "dataset = dataset.drop(['zipcodeOri','zipMerchant'],axis=1)\n",
        "print(\"Unique zipCodeOri values: \",dzip)\n",
        "print(\"Unique zipMerchant values: \",dmer)"
      ],
      "execution_count": null,
      "outputs": [
        {
          "output_type": "stream",
          "text": [
            "Unique zipCodeOri values:  1\n",
            "Unique zipMerchant values:  1\n"
          ],
          "name": "stdout"
        }
      ]
    },
    {
      "cell_type": "code",
      "metadata": {
        "id": "s7MwU4li6WnB",
        "colab": {
          "base_uri": "https://localhost:8080/",
          "height": 221
        },
        "outputId": "8607a21f-f83d-4339-e1c8-6db6ad77cffc"
      },
      "source": [
        "M=dataset.shape[1]\n",
        "print(M)\n",
        "dataset.head()"
      ],
      "execution_count": null,
      "outputs": [
        {
          "output_type": "stream",
          "text": [
            "8\n"
          ],
          "name": "stdout"
        },
        {
          "output_type": "execute_result",
          "data": {
            "text/html": [
              "<div>\n",
              "<style scoped>\n",
              "    .dataframe tbody tr th:only-of-type {\n",
              "        vertical-align: middle;\n",
              "    }\n",
              "\n",
              "    .dataframe tbody tr th {\n",
              "        vertical-align: top;\n",
              "    }\n",
              "\n",
              "    .dataframe thead th {\n",
              "        text-align: right;\n",
              "    }\n",
              "</style>\n",
              "<table border=\"1\" class=\"dataframe\">\n",
              "  <thead>\n",
              "    <tr style=\"text-align: right;\">\n",
              "      <th></th>\n",
              "      <th>step</th>\n",
              "      <th>customer</th>\n",
              "      <th>age</th>\n",
              "      <th>gender</th>\n",
              "      <th>merchant</th>\n",
              "      <th>category</th>\n",
              "      <th>amount</th>\n",
              "      <th>fraud</th>\n",
              "    </tr>\n",
              "  </thead>\n",
              "  <tbody>\n",
              "    <tr>\n",
              "      <th>0</th>\n",
              "      <td>0</td>\n",
              "      <td>'C1093826151'</td>\n",
              "      <td>'4'</td>\n",
              "      <td>'M'</td>\n",
              "      <td>'M348934600'</td>\n",
              "      <td>'es_transportation'</td>\n",
              "      <td>4.55</td>\n",
              "      <td>0</td>\n",
              "    </tr>\n",
              "    <tr>\n",
              "      <th>1</th>\n",
              "      <td>0</td>\n",
              "      <td>'C352968107'</td>\n",
              "      <td>'2'</td>\n",
              "      <td>'M'</td>\n",
              "      <td>'M348934600'</td>\n",
              "      <td>'es_transportation'</td>\n",
              "      <td>39.68</td>\n",
              "      <td>0</td>\n",
              "    </tr>\n",
              "    <tr>\n",
              "      <th>2</th>\n",
              "      <td>0</td>\n",
              "      <td>'C2054744914'</td>\n",
              "      <td>'4'</td>\n",
              "      <td>'F'</td>\n",
              "      <td>'M1823072687'</td>\n",
              "      <td>'es_transportation'</td>\n",
              "      <td>26.89</td>\n",
              "      <td>0</td>\n",
              "    </tr>\n",
              "    <tr>\n",
              "      <th>3</th>\n",
              "      <td>0</td>\n",
              "      <td>'C1760612790'</td>\n",
              "      <td>'3'</td>\n",
              "      <td>'M'</td>\n",
              "      <td>'M348934600'</td>\n",
              "      <td>'es_transportation'</td>\n",
              "      <td>17.25</td>\n",
              "      <td>0</td>\n",
              "    </tr>\n",
              "    <tr>\n",
              "      <th>4</th>\n",
              "      <td>0</td>\n",
              "      <td>'C757503768'</td>\n",
              "      <td>'5'</td>\n",
              "      <td>'M'</td>\n",
              "      <td>'M348934600'</td>\n",
              "      <td>'es_transportation'</td>\n",
              "      <td>35.72</td>\n",
              "      <td>0</td>\n",
              "    </tr>\n",
              "  </tbody>\n",
              "</table>\n",
              "</div>"
            ],
            "text/plain": [
              "   step       customer  age  ...             category amount fraud\n",
              "0     0  'C1093826151'  '4'  ...  'es_transportation'   4.55     0\n",
              "1     0   'C352968107'  '2'  ...  'es_transportation'  39.68     0\n",
              "2     0  'C2054744914'  '4'  ...  'es_transportation'  26.89     0\n",
              "3     0  'C1760612790'  '3'  ...  'es_transportation'  17.25     0\n",
              "4     0   'C757503768'  '5'  ...  'es_transportation'  35.72     0\n",
              "\n",
              "[5 rows x 8 columns]"
            ]
          },
          "metadata": {
            "tags": []
          },
          "execution_count": 296
        }
      ]
    },
    {
      "cell_type": "code",
      "metadata": {
        "id": "go_cwpqT6MEW",
        "colab": {
          "base_uri": "https://localhost:8080/",
          "height": 204
        },
        "outputId": "aeb97be8-9b48-4b78-e427-3b49c9d59731"
      },
      "source": [
        "#changing datatype of object to categorical\n",
        "col_cat=dataset.select_dtypes(include='object').columns\n",
        "for i in col_cat:\n",
        "  dataset[i]=dataset[i].astype('category') \n",
        "#changing categorical values to numericals\n",
        "dataset[col_cat]=dataset[col_cat].apply(lambda i:i.cat.codes)\n",
        "dataset.head(5)"
      ],
      "execution_count": null,
      "outputs": [
        {
          "output_type": "execute_result",
          "data": {
            "text/html": [
              "<div>\n",
              "<style scoped>\n",
              "    .dataframe tbody tr th:only-of-type {\n",
              "        vertical-align: middle;\n",
              "    }\n",
              "\n",
              "    .dataframe tbody tr th {\n",
              "        vertical-align: top;\n",
              "    }\n",
              "\n",
              "    .dataframe thead th {\n",
              "        text-align: right;\n",
              "    }\n",
              "</style>\n",
              "<table border=\"1\" class=\"dataframe\">\n",
              "  <thead>\n",
              "    <tr style=\"text-align: right;\">\n",
              "      <th></th>\n",
              "      <th>step</th>\n",
              "      <th>customer</th>\n",
              "      <th>age</th>\n",
              "      <th>gender</th>\n",
              "      <th>merchant</th>\n",
              "      <th>category</th>\n",
              "      <th>amount</th>\n",
              "      <th>fraud</th>\n",
              "    </tr>\n",
              "  </thead>\n",
              "  <tbody>\n",
              "    <tr>\n",
              "      <th>0</th>\n",
              "      <td>0</td>\n",
              "      <td>210</td>\n",
              "      <td>4</td>\n",
              "      <td>2</td>\n",
              "      <td>30</td>\n",
              "      <td>12</td>\n",
              "      <td>4.55</td>\n",
              "      <td>0</td>\n",
              "    </tr>\n",
              "    <tr>\n",
              "      <th>1</th>\n",
              "      <td>0</td>\n",
              "      <td>2753</td>\n",
              "      <td>2</td>\n",
              "      <td>2</td>\n",
              "      <td>30</td>\n",
              "      <td>12</td>\n",
              "      <td>39.68</td>\n",
              "      <td>0</td>\n",
              "    </tr>\n",
              "    <tr>\n",
              "      <th>2</th>\n",
              "      <td>0</td>\n",
              "      <td>2285</td>\n",
              "      <td>4</td>\n",
              "      <td>1</td>\n",
              "      <td>18</td>\n",
              "      <td>12</td>\n",
              "      <td>26.89</td>\n",
              "      <td>0</td>\n",
              "    </tr>\n",
              "    <tr>\n",
              "      <th>3</th>\n",
              "      <td>0</td>\n",
              "      <td>1650</td>\n",
              "      <td>3</td>\n",
              "      <td>2</td>\n",
              "      <td>30</td>\n",
              "      <td>12</td>\n",
              "      <td>17.25</td>\n",
              "      <td>0</td>\n",
              "    </tr>\n",
              "    <tr>\n",
              "      <th>4</th>\n",
              "      <td>0</td>\n",
              "      <td>3585</td>\n",
              "      <td>5</td>\n",
              "      <td>2</td>\n",
              "      <td>30</td>\n",
              "      <td>12</td>\n",
              "      <td>35.72</td>\n",
              "      <td>0</td>\n",
              "    </tr>\n",
              "  </tbody>\n",
              "</table>\n",
              "</div>"
            ],
            "text/plain": [
              "   step  customer  age  gender  merchant  category  amount  fraud\n",
              "0     0       210    4       2        30        12    4.55      0\n",
              "1     0      2753    2       2        30        12   39.68      0\n",
              "2     0      2285    4       1        18        12   26.89      0\n",
              "3     0      1650    3       2        30        12   17.25      0\n",
              "4     0      3585    5       2        30        12   35.72      0"
            ]
          },
          "metadata": {
            "tags": []
          },
          "execution_count": 297
        }
      ]
    },
    {
      "cell_type": "code",
      "metadata": {
        "id": "ryITJR2cHdI_",
        "colab": {
          "base_uri": "https://localhost:8080/",
          "height": 395
        },
        "outputId": "8af52a75-7024-4fd9-be58-a7718d8266a9"
      },
      "source": [
        "plt.rcParams['figure.figsize'] = (10, 6)\n",
        "sns.heatmap(dataset.corr(), cmap = 'Wistia', annot = True)\n",
        "plt.title('Heatmap for the Data', fontsize = 20)\n",
        "plt.show()"
      ],
      "execution_count": null,
      "outputs": [
        {
          "output_type": "display_data",
          "data": {
            "image/png": "[encoded data removed]",
            "text/plain": [
              "<Figure size 720x432 with 2 Axes>"
            ]
          },
          "metadata": {
            "tags": [],
            "needs_background": "light"
          }
        }
      ]
    },
    {
      "cell_type": "code",
      "metadata": {
        "id": "0ehPD9xOBmZW"
      },
      "source": [
        "#dataset['customer'].plot(kind=\"bar\")"
      ],
      "execution_count": null,
      "outputs": []
    },
    {
      "cell_type": "code",
      "metadata": {
        "id": "w7DUlKkaBVAN",
        "colab": {
          "base_uri": "https://localhost:8080/"
        },
        "outputId": "a976f6ca-f123-419e-8d59-0f5fd18a9713"
      },
      "source": [
        "x=dataset.drop(['fraud'],axis=1)\n",
        "y=dataset['fraud']\n",
        "print(x)\n",
        "print()\n",
        "print(y)"
      ],
      "execution_count": null,
      "outputs": [
        {
          "output_type": "stream",
          "text": [
            "        step  customer  age  gender  merchant  category  amount\n",
            "0          0       210    4       2        30        12    4.55\n",
            "1          0      2753    2       2        30        12   39.68\n",
            "2          0      2285    4       1        18        12   26.89\n",
            "3          0      1650    3       2        30        12   17.25\n",
            "4          0      3585    5       2        30        12   35.72\n",
            "...      ...       ...  ...     ...       ...       ...     ...\n",
            "594638   179      1639    3       1        18        12   20.53\n",
            "594639   179      3369    4       1        18        12   50.73\n",
            "594640   179       529    2       1        31         2   22.44\n",
            "594641   179      1083    5       2        18        12   14.46\n",
            "594642   179      3304    4       1        18        12   26.93\n",
            "\n",
            "[594643 rows x 7 columns]\n",
            "\n",
            "0         0\n",
            "1         0\n",
            "2         0\n",
            "3         0\n",
            "4         0\n",
            "         ..\n",
            "594638    0\n",
            "594639    0\n",
            "594640    0\n",
            "594641    0\n",
            "594642    0\n",
            "Name: fraud, Length: 594643, dtype: int64\n"
          ],
          "name": "stdout"
        }
      ]
    },
    {
      "cell_type": "code",
      "metadata": {
        "id": "j8ToikYHCA-N",
        "colab": {
          "base_uri": "https://localhost:8080/"
        },
        "outputId": "f0e23e90-6046-4514-9bcf-2df87f1bdfb1"
      },
      "source": [
        "y[y==1].count()"
      ],
      "execution_count": null,
      "outputs": [
        {
          "output_type": "execute_result",
          "data": {
            "text/plain": [
              "7200"
            ]
          },
          "metadata": {
            "tags": []
          },
          "execution_count": 301
        }
      ]
    },
    {
      "cell_type": "code",
      "metadata": {
        "id": "YOGLKWyq_VP0",
        "colab": {
          "base_uri": "https://localhost:8080/"
        },
        "outputId": "36a3da78-c9a8-401e-efff-4f73c5e277dc"
      },
      "source": [
        "nr = NearMiss()\n",
        "X_train_miss, y_train_miss = nr.fit_sample(x, y) \n",
        "print('the shape of train_X: {}'.format(X_train_miss.shape)) \n",
        "print('the shape of train_y: {} \\n'.format(y_train_miss.shape)) \n",
        "print(\"counts of label '1': {}\".format(sum(y_train_miss == 1))) \n",
        "print(\"counts of label '0': {}\".format(sum(y_train_miss == 0)))"
      ],
      "execution_count": null,
      "outputs": [
        {
          "output_type": "stream",
          "text": [
            "/usr/local/lib/python3.7/dist-packages/sklearn/utils/deprecation.py:87: FutureWarning: Function safe_indexing is deprecated; safe_indexing is deprecated in version 0.22 and will be removed in version 0.24.\n",
            "  warnings.warn(msg, category=FutureWarning)\n",
            "/usr/local/lib/python3.7/dist-packages/sklearn/utils/deprecation.py:87: FutureWarning: Function safe_indexing is deprecated; safe_indexing is deprecated in version 0.22 and will be removed in version 0.24.\n",
            "  warnings.warn(msg, category=FutureWarning)\n",
            "/usr/local/lib/python3.7/dist-packages/sklearn/utils/deprecation.py:87: FutureWarning: Function safe_indexing is deprecated; safe_indexing is deprecated in version 0.22 and will be removed in version 0.24.\n",
            "  warnings.warn(msg, category=FutureWarning)\n"
          ],
          "name": "stderr"
        },
        {
          "output_type": "stream",
          "text": [
            "the shape of train_X: (14400, 7)\n",
            "the shape of train_y: (14400,) \n",
            "\n",
            "counts of label '1': 7200\n",
            "counts of label '0': 7200\n"
          ],
          "name": "stdout"
        }
      ]
    },
    {
      "cell_type": "code",
      "metadata": {
        "id": "LsNhrgIkRx2t"
      },
      "source": [
        "X_train, X_test, y_train, y_test = train_test_split(X_train_miss, \n",
        "y_train_miss ,test_size=0.3,random_state=42,\n",
        "shuffle=True,stratify=y_train_miss)"
      ],
      "execution_count": null,
      "outputs": []
    },
    {
      "cell_type": "code",
      "metadata": {
        "id": "2T4N8OpqS1Ui",
        "colab": {
          "base_uri": "https://localhost:8080/"
        },
        "outputId": "eb69055a-28e1-4fb4-9ae4-ff01a7df242c"
      },
      "source": [
        "classifier = LogisticRegression(random_state = 0)\n",
        "classifier.fit(X_train, y_train)\n",
        "y_pred=classifier.predict(X_test)\n",
        "cm = confusion_matrix(y_test, y_pred)\n",
        "print(\"the confusion matrix is =\")\n",
        "print(cm)\n",
        "print(\"accuracy per=\",accuracy_score(y_test,y_pred)*100)"
      ],
      "execution_count": null,
      "outputs": [
        {
          "output_type": "stream",
          "text": [
            "the confusion matrix is =\n",
            "[[2071   89]\n",
            " [ 283 1877]]\n",
            "accuracy per= 91.38888888888889\n"
          ],
          "name": "stdout"
        }
      ]
    },
    {
      "cell_type": "code",
      "metadata": {
        "id": "Z6alr9LMvjfj"
      },
      "source": [
        "knn_cls=KNeighborsClassifier(n_neighbors=5,p=2)\n",
        "knn_cls.fit(X_train,y_train)\n",
        "y_pred=knn_cls.predict(X_test)\n",
        "cm = confusion_matrix(y_test, y_pred)\n"
      ],
      "execution_count": null,
      "outputs": []
    },
    {
      "cell_type": "code",
      "metadata": {
        "id": "i3BaFg5KeCuq",
        "colab": {
          "base_uri": "https://localhost:8080/"
        },
        "outputId": "a3a1647d-34f4-450e-c828-e927f2b9ec78"
      },
      "source": [
        "classifier = DecisionTreeClassifier(criterion = 'entropy', random_state = 0)\n",
        "classifier.fit(X_train, y_train)\n",
        "y_pred = classifier.predict(X_test)\n",
        "cm = confusion_matrix(y_test, y_pred)\n",
        "print(cm)\n",
        "print(\"accuracy per=\",accuracy_score(y_test,y_pred)*100)\n"
      ],
      "execution_count": null,
      "outputs": [
        {
          "output_type": "stream",
          "text": [
            "[[2067   93]\n",
            " [  75 2085]]\n",
            "accuracy per= 96.11111111111111\n"
          ],
          "name": "stdout"
        }
      ]
    },
    {
      "cell_type": "code",
      "metadata": {
        "id": "WAPgaYfNdA52",
        "colab": {
          "base_uri": "https://localhost:8080/"
        },
        "outputId": "87516b5e-f22f-47c6-e92a-de05c4eec82b"
      },
      "source": [
        "rf=RandomForestClassifier(n_estimators=100,\n",
        "        max_depth=8,random_state=42,verbose=1,\n",
        "                     class_weight=\"balanced\")\n",
        "rf.fit(X_train,y_train)\n",
        "y_pred=rf.predict(X_test)\n",
        "print(\"the confusion matrix is =\")\n",
        "print(cm)\n",
        "print(\"accuracy per=\",accuracy_score(y_test,y_pred)*100)\n",
        "\n",
        "\n"
      ],
      "execution_count": null,
      "outputs": [
        {
          "output_type": "stream",
          "text": [
            "[Parallel(n_jobs=1)]: Using backend SequentialBackend with 1 concurrent workers.\n"
          ],
          "name": "stderr"
        },
        {
          "output_type": "stream",
          "text": [
            "the confusion matrix is =\n",
            "[[2067   93]\n",
            " [  75 2085]]\n",
            "accuracy per= 96.64351851851852\n"
          ],
          "name": "stdout"
        },
        {
          "output_type": "stream",
          "text": [
            "[Parallel(n_jobs=1)]: Done 100 out of 100 | elapsed:    0.7s finished\n",
            "[Parallel(n_jobs=1)]: Using backend SequentialBackend with 1 concurrent workers.\n",
            "[Parallel(n_jobs=1)]: Done 100 out of 100 | elapsed:    0.0s finished\n"
          ],
          "name": "stderr"
        }
      ]
    }
  ]
}